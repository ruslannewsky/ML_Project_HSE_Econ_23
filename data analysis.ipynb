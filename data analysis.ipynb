{
 "cells": [
  {
   "cell_type": "code",
   "execution_count": 1,
   "id": "91dbb5ad",
   "metadata": {},
   "outputs": [],
   "source": [
    "import pandas as pd\n",
    "import numpy as np\n",
    "import matplotlib.pyplot as plt\n",
    "from sklearn.model_selection import train_test_split, GridSearchCV\n",
    "from sklearn.linear_model import LinearRegression\n",
    "from sklearn.metrics import roc_auc_score, accuracy_score, precision_score, recall_score, precision_recall_curve, fbeta_score\n",
    "from sklearn.preprocessing import StandardScaler\n",
    "from sklearn.preprocessing import OneHotEncoder\n",
    "from catboost import CatBoostRegressor\n",
    "import seaborn as sns"
   ]
  },
  {
   "cell_type": "markdown",
   "id": "e3da4221",
   "metadata": {},
   "source": [
    "# Предобработка"
   ]
  },
  {
   "cell_type": "code",
   "execution_count": 2,
   "id": "470e70da",
   "metadata": {},
   "outputs": [
    {
     "name": "stdout",
     "output_type": "stream",
     "text": [
      "(5000, 10)\n"
     ]
    },
    {
     "data": {
      "text/html": [
       "<div>\n",
       "<style scoped>\n",
       "    .dataframe tbody tr th:only-of-type {\n",
       "        vertical-align: middle;\n",
       "    }\n",
       "\n",
       "    .dataframe tbody tr th {\n",
       "        vertical-align: top;\n",
       "    }\n",
       "\n",
       "    .dataframe thead th {\n",
       "        text-align: right;\n",
       "    }\n",
       "</style>\n",
       "<table border=\"1\" class=\"dataframe\">\n",
       "  <thead>\n",
       "    <tr style=\"text-align: right;\">\n",
       "      <th></th>\n",
       "      <th>Price_Total</th>\n",
       "      <th>Area</th>\n",
       "      <th>Price_Meter</th>\n",
       "      <th>Rooms</th>\n",
       "      <th>Floor_Live</th>\n",
       "      <th>Floor_Total</th>\n",
       "      <th>Zone</th>\n",
       "      <th>Neighborhood</th>\n",
       "      <th>Distance</th>\n",
       "      <th>Time</th>\n",
       "    </tr>\n",
       "  </thead>\n",
       "  <tbody>\n",
       "    <tr>\n",
       "      <th>0</th>\n",
       "      <td>11850601</td>\n",
       "      <td>36.5</td>\n",
       "      <td>324674</td>\n",
       "      <td>1</td>\n",
       "      <td>24</td>\n",
       "      <td>38</td>\n",
       "      <td>ЮВАО</td>\n",
       "      <td>Южнопортовыйрайон</td>\n",
       "      <td>5.0</td>\n",
       "      <td>9.0</td>\n",
       "    </tr>\n",
       "    <tr>\n",
       "      <th>1</th>\n",
       "      <td>9265190</td>\n",
       "      <td>34.2</td>\n",
       "      <td>270912</td>\n",
       "      <td>1</td>\n",
       "      <td>15</td>\n",
       "      <td>33</td>\n",
       "      <td>ВАО</td>\n",
       "      <td>Метрогородок</td>\n",
       "      <td>10.5</td>\n",
       "      <td>12.0</td>\n",
       "    </tr>\n",
       "    <tr>\n",
       "      <th>2</th>\n",
       "      <td>10594407</td>\n",
       "      <td>34.2</td>\n",
       "      <td>309778</td>\n",
       "      <td>2</td>\n",
       "      <td>7</td>\n",
       "      <td>15</td>\n",
       "      <td>СВАО</td>\n",
       "      <td>Бабушкинскийрайон</td>\n",
       "      <td>12.0</td>\n",
       "      <td>11.0</td>\n",
       "    </tr>\n",
       "    <tr>\n",
       "      <th>3</th>\n",
       "      <td>9353943</td>\n",
       "      <td>36.1</td>\n",
       "      <td>259112</td>\n",
       "      <td>1</td>\n",
       "      <td>31</td>\n",
       "      <td>33</td>\n",
       "      <td>ЮАО</td>\n",
       "      <td>ЧертановоЮжное</td>\n",
       "      <td>18.5</td>\n",
       "      <td>7.0</td>\n",
       "    </tr>\n",
       "    <tr>\n",
       "      <th>4</th>\n",
       "      <td>8484026</td>\n",
       "      <td>24.4</td>\n",
       "      <td>347706</td>\n",
       "      <td>0</td>\n",
       "      <td>19</td>\n",
       "      <td>21</td>\n",
       "      <td>ЗАО</td>\n",
       "      <td>ОчаковоМатвеевское</td>\n",
       "      <td>12.1</td>\n",
       "      <td>9.0</td>\n",
       "    </tr>\n",
       "    <tr>\n",
       "      <th>5</th>\n",
       "      <td>8296707</td>\n",
       "      <td>34.2</td>\n",
       "      <td>242452</td>\n",
       "      <td>1</td>\n",
       "      <td>13</td>\n",
       "      <td>33</td>\n",
       "      <td>ЮАО</td>\n",
       "      <td>ЧертановоЮжное</td>\n",
       "      <td>18.5</td>\n",
       "      <td>7.0</td>\n",
       "    </tr>\n",
       "    <tr>\n",
       "      <th>6</th>\n",
       "      <td>9783011</td>\n",
       "      <td>42.6</td>\n",
       "      <td>229810</td>\n",
       "      <td>1</td>\n",
       "      <td>23</td>\n",
       "      <td>33</td>\n",
       "      <td>ЮАО</td>\n",
       "      <td>ЧертановоЮжное</td>\n",
       "      <td>18.5</td>\n",
       "      <td>7.0</td>\n",
       "    </tr>\n",
       "    <tr>\n",
       "      <th>7</th>\n",
       "      <td>9138416</td>\n",
       "      <td>35.9</td>\n",
       "      <td>254552</td>\n",
       "      <td>2</td>\n",
       "      <td>19</td>\n",
       "      <td>33</td>\n",
       "      <td>СВАО</td>\n",
       "      <td>Отрадное</td>\n",
       "      <td>10.9</td>\n",
       "      <td>19.0</td>\n",
       "    </tr>\n",
       "    <tr>\n",
       "      <th>8</th>\n",
       "      <td>13086430</td>\n",
       "      <td>42.5</td>\n",
       "      <td>307916</td>\n",
       "      <td>1</td>\n",
       "      <td>32</td>\n",
       "      <td>38</td>\n",
       "      <td>ЮВАО</td>\n",
       "      <td>Южнопортовыйрайон</td>\n",
       "      <td>5.0</td>\n",
       "      <td>9.0</td>\n",
       "    </tr>\n",
       "    <tr>\n",
       "      <th>9</th>\n",
       "      <td>9205334</td>\n",
       "      <td>35.9</td>\n",
       "      <td>256416</td>\n",
       "      <td>1</td>\n",
       "      <td>11</td>\n",
       "      <td>28</td>\n",
       "      <td>ВАО</td>\n",
       "      <td>Гольяново</td>\n",
       "      <td>9.8</td>\n",
       "      <td>11.0</td>\n",
       "    </tr>\n",
       "  </tbody>\n",
       "</table>\n",
       "</div>"
      ],
      "text/plain": [
       "   Price_Total  Area  Price_Meter  Rooms  Floor_Live  Floor_Total  Zone  \\\n",
       "0     11850601  36.5       324674      1          24           38  ЮВАО   \n",
       "1      9265190  34.2       270912      1          15           33   ВАО   \n",
       "2     10594407  34.2       309778      2           7           15  СВАО   \n",
       "3      9353943  36.1       259112      1          31           33   ЮАО   \n",
       "4      8484026  24.4       347706      0          19           21   ЗАО   \n",
       "5      8296707  34.2       242452      1          13           33   ЮАО   \n",
       "6      9783011  42.6       229810      1          23           33   ЮАО   \n",
       "7      9138416  35.9       254552      2          19           33  СВАО   \n",
       "8     13086430  42.5       307916      1          32           38  ЮВАО   \n",
       "9      9205334  35.9       256416      1          11           28   ВАО   \n",
       "\n",
       "         Neighborhood  Distance  Time  \n",
       "0   Южнопортовыйрайон       5.0   9.0  \n",
       "1        Метрогородок      10.5  12.0  \n",
       "2   Бабушкинскийрайон      12.0  11.0  \n",
       "3      ЧертановоЮжное      18.5   7.0  \n",
       "4  ОчаковоМатвеевское      12.1   9.0  \n",
       "5      ЧертановоЮжное      18.5   7.0  \n",
       "6      ЧертановоЮжное      18.5   7.0  \n",
       "7            Отрадное      10.9  19.0  \n",
       "8   Южнопортовыйрайон       5.0   9.0  \n",
       "9           Гольяново       9.8  11.0  "
      ]
     },
     "execution_count": 2,
     "metadata": {},
     "output_type": "execute_result"
    }
   ],
   "source": [
    "df = pd.read_csv('our_project.csv')\n",
    "df['Neighborhood'] = df['Neighborhood'].str.replace(' ', '').str.replace('-', '') #убрали пробелы и др. символы, чтоб ниче потом не мешало\n",
    "print(df.shape)\n",
    "df.head(10)"
   ]
  },
  {
   "cell_type": "code",
   "execution_count": 3,
   "id": "58cf7d94",
   "metadata": {},
   "outputs": [
    {
     "name": "stdout",
     "output_type": "stream",
     "text": [
      "['ЮВАО' 'ВАО' 'СВАО' 'ЮАО' 'ЗАО' 'САО' 'Новая Москва' 'ЮЗАО' 'СЗАО']\n",
      "['Южнопортовыйрайон' 'Метрогородок' 'Бабушкинскийрайон' 'ЧертановоЮжное'\n",
      " 'ОчаковоМатвеевское' 'Отрадное' 'Гольяново' 'Молжаниновскийрайон'\n",
      " 'Московский' 'ФилёвскийПарк' 'НагатиноСадовники' 'Черёмушки'\n",
      " 'Рязанскийрайон' 'ПокровскоеСтрешнево']\n"
     ]
    }
   ],
   "source": [
    "print(df['Zone'].unique())\n",
    "print(df['Neighborhood'].unique())\n",
    "\n",
    "#https://habr.com/ru/articles/666234/ - отсюда взят алгоритма для всех категориальных данных к числовым.\n",
    "\n",
    "encoder = OneHotEncoder()\n",
    "categorical_features = df[['Zone', 'Neighborhood']]\n",
    "encoded_features = encoder.fit_transform(categorical_features)\n",
    "df = df.join(pd.DataFrame(encoded_features.toarray(), columns=encoder.get_feature_names(['Zone', 'Neighborhood'])))"
   ]
  },
  {
   "cell_type": "markdown",
   "id": "00662ac3",
   "metadata": {},
   "source": [
    "**Здесь мы избавились от текстовых признаков, воспользовавшиься one-hot-encoding. Удалили пробелы, спец.символы в некоторых колонках, т.к. они в дальнейшем помешали бы**"
   ]
  },
  {
   "cell_type": "code",
   "execution_count": 4,
   "id": "e34ed2c0",
   "metadata": {},
   "outputs": [
    {
     "data": {
      "text/plain": [
       "Index(['Price_Total', 'Area', 'Price_Meter', 'Rooms', 'Floor_Live',\n",
       "       'Floor_Total', 'Zone', 'Neighborhood', 'Distance', 'Time', 'Zone_ВАО',\n",
       "       'Zone_ЗАО', 'Zone_Новая Москва', 'Zone_САО', 'Zone_СВАО', 'Zone_СЗАО',\n",
       "       'Zone_ЮАО', 'Zone_ЮВАО', 'Zone_ЮЗАО', 'Neighborhood_Бабушкинскийрайон',\n",
       "       'Neighborhood_Гольяново', 'Neighborhood_Метрогородок',\n",
       "       'Neighborhood_Молжаниновскийрайон', 'Neighborhood_Московский',\n",
       "       'Neighborhood_НагатиноСадовники', 'Neighborhood_Отрадное',\n",
       "       'Neighborhood_ОчаковоМатвеевское', 'Neighborhood_ПокровскоеСтрешнево',\n",
       "       'Neighborhood_Рязанскийрайон', 'Neighborhood_ФилёвскийПарк',\n",
       "       'Neighborhood_ЧертановоЮжное', 'Neighborhood_Черёмушки',\n",
       "       'Neighborhood_Южнопортовыйрайон'],\n",
       "      dtype='object')"
      ]
     },
     "execution_count": 4,
     "metadata": {},
     "output_type": "execute_result"
    }
   ],
   "source": [
    "df.columns"
   ]
  },
  {
   "cell_type": "markdown",
   "id": "5b04f8b7",
   "metadata": {},
   "source": [
    "# EDA"
   ]
  },
  {
   "cell_type": "code",
   "execution_count": 5,
   "id": "26bffa8a",
   "metadata": {},
   "outputs": [
    {
     "data": {
      "image/png": "[encoded data removed]",
      "text/plain": [
       "<Figure size 432x288 with 1 Axes>"
      ]
     },
     "metadata": {
      "needs_background": "light"
     },
     "output_type": "display_data"
    }
   ],
   "source": [
    "plt.hist(df['Price_Total'], bins=50, color = 'c', edgecolor='black')\n",
    "plt.title('Распределение цен на квартиры')\n",
    "plt.xlabel('Цена')\n",
    "plt.ylabel('Количество')\n",
    "plt.xlim(0, 50000000)\n",
    "plt.xticks(range(0, 50000000, 5000000))\n",
    "plt.show()"
   ]
  },
  {
   "cell_type": "code",
   "execution_count": 6,
   "id": "c4e81704",
   "metadata": {},
   "outputs": [
    {
     "data": {
      "image/png": "[encoded data removed]",
      "text/plain": [
       "<Figure size 432x288 with 1 Axes>"
      ]
     },
     "metadata": {
      "needs_background": "light"
     },
     "output_type": "display_data"
    }
   ],
   "source": [
    "plt.hist(df['Area'], bins=30, color = 'c', edgecolor='black')\n",
    "plt.title('Распределение площадей квартир')\n",
    "plt.xlabel('Площадь')\n",
    "plt.ylabel('Количество')\n",
    "plt.show()"
   ]
  },
  {
   "cell_type": "code",
   "execution_count": 7,
   "id": "32fa041d",
   "metadata": {
    "scrolled": true
   },
   "outputs": [
    {
     "data": {
      "image/png": "[encoded data removed]",
      "text/plain": [
       "<Figure size 432x288 with 1 Axes>"
      ]
     },
     "metadata": {
      "needs_background": "light"
     },
     "output_type": "display_data"
    },
    {
     "name": "stdout",
     "output_type": "stream",
     "text": [
      "3\n"
     ]
    }
   ],
   "source": [
    "plt.hist(df['Rooms'], bins=30, color = 'c', edgecolor='black')\n",
    "plt.title('Распределение количества комнат')\n",
    "plt.xticks(np.arange(0, 4, 1))\n",
    "plt.xlabel('Площадь')\n",
    "plt.ylabel('Количество')\n",
    "plt.show()\n",
    "print(max(df['Rooms']))"
   ]
  },
  {
   "cell_type": "markdown",
   "id": "635c52d9",
   "metadata": {},
   "source": [
    "**Пояснение:** 0 комнат означает квартиру-студию."
   ]
  },
  {
   "cell_type": "code",
   "execution_count": 8,
   "id": "0e448693",
   "metadata": {},
   "outputs": [
    {
     "data": {
      "image/png": "[encoded data removed]",
      "text/plain": [
       "<Figure size 432x288 with 1 Axes>"
      ]
     },
     "metadata": {
      "needs_background": "light"
     },
     "output_type": "display_data"
    },
    {
     "name": "stdout",
     "output_type": "stream",
     "text": [
      "[287269.47710673 322007.03637237]\n",
      "299168.3336\n"
     ]
    }
   ],
   "source": [
    "plt.scatter(df['Area'], df['Price_Total'], color = 'c', edgecolor='black')\n",
    "\n",
    "fit = np.polyfit(df['Area'], df['Price_Total'], 1)\n",
    "plt.plot(df['Area'], fit[0] * df['Area'] + fit[1], color='red')\n",
    "\n",
    "plt.xlabel('Площадь квартиры, кв.м')\n",
    "plt.ylim(0, 50000000)\n",
    "plt.yticks(range(0, 50000000, 5000000))\n",
    "plt.ylabel('Цена квартиры, руб.')\n",
    "plt.show()\n",
    "\n",
    "print(fit)\n",
    "print(df['Price_Meter'].mean())"
   ]
  },
  {
   "cell_type": "markdown",
   "id": "56cc8acc",
   "metadata": {},
   "source": [
    "**Соотношение площади квартиры с ее ценой. Построение полиномиальной регрессии.**"
   ]
  },
  {
   "cell_type": "code",
   "execution_count": 9,
   "id": "645cd7da",
   "metadata": {},
   "outputs": [
    {
     "data": {
      "text/plain": [
       "<AxesSubplot:xlabel='Floor_Total', ylabel='Rooms'>"
      ]
     },
     "execution_count": 9,
     "metadata": {},
     "output_type": "execute_result"
    },
    {
     "data": {
      "image/png": "[encoded data removed]",
      "text/plain": [
       "<Figure size 432x288 with 2 Axes>"
      ]
     },
     "metadata": {
      "needs_background": "light"
     },
     "output_type": "display_data"
    }
   ],
   "source": [
    "cross_tab = pd.crosstab(df['Rooms'], df['Floor_Total'])\n",
    "sns.heatmap(cross_tab, cmap='BuPu')"
   ]
  },
  {
   "cell_type": "markdown",
   "id": "6e9c8086",
   "metadata": {},
   "source": [
    "**Наиболее популярное сочетание: 1 комнатная квартира в 33-38 этажном доме.**"
   ]
  },
  {
   "cell_type": "code",
   "execution_count": 10,
   "id": "0d07e606",
   "metadata": {},
   "outputs": [
    {
     "data": {
      "text/plain": [
       "Zone_ВАО            -0.015962\n",
       "Zone_ЗАО             0.354608\n",
       "Zone_Новая Москва   -0.024451\n",
       "Zone_САО            -0.140486\n",
       "Zone_СВАО           -0.006571\n",
       "Zone_СЗАО            0.480714\n",
       "Zone_ЮАО            -0.649064\n",
       "Zone_ЮВАО            0.143578\n",
       "Zone_ЮЗАО            0.277665\n",
       "Price_Meter          1.000000\n",
       "Name: Price_Meter, dtype: float64"
      ]
     },
     "execution_count": 10,
     "metadata": {},
     "output_type": "execute_result"
    }
   ],
   "source": [
    "correlations = df[['Zone_ВАО', 'Zone_ЗАО', 'Zone_Новая Москва', 'Zone_САО', 'Zone_СВАО', 'Zone_СЗАО',\n",
    "       'Zone_ЮАО', 'Zone_ЮВАО', 'Zone_ЮЗАО', 'Price_Meter']].corr()\n",
    "correlations['Price_Meter']"
   ]
  },
  {
   "cell_type": "markdown",
   "id": "b34bc08f",
   "metadata": {},
   "source": [
    "**Здесь мы видим, что статистически благоприятно влияет на цену квартиры ее расположение, например, в Северо-Западном, Юго-Западном, Западном Автономных Округах. Противоположная ситуация, например, в Южном, Восточном Автомных Округах.**"
   ]
  },
  {
   "cell_type": "code",
   "execution_count": 11,
   "id": "35df5e54",
   "metadata": {},
   "outputs": [
    {
     "data": {
      "text/plain": [
       "Neighborhood_Бабушкинскийрайон      0.044912\n",
       "Neighborhood_Гольяново             -0.004190\n",
       "Neighborhood_Метрогородок          -0.016869\n",
       "Neighborhood_Молжаниновскийрайон   -0.140486\n",
       "Neighborhood_Московский            -0.024451\n",
       "Neighborhood_НагатиноСадовники      0.054195\n",
       "Neighborhood_Отрадное              -0.095990\n",
       "Neighborhood_ОчаковоМатвеевское     0.153059\n",
       "Neighborhood_ПокровскоеСтрешнево    0.480714\n",
       "Neighborhood_Рязанскийрайон        -0.119507\n",
       "Neighborhood_ФилёвскийПарк          0.390619\n",
       "Neighborhood_ЧертановоЮжное        -0.687448\n",
       "Neighborhood_Черёмушки              0.277665\n",
       "Neighborhood_Южнопортовыйрайон      0.241993\n",
       "Price_Meter                         1.000000\n",
       "Name: Price_Meter, dtype: float64"
      ]
     },
     "execution_count": 11,
     "metadata": {},
     "output_type": "execute_result"
    }
   ],
   "source": [
    "correlations = df[['Neighborhood_Бабушкинскийрайон',\n",
    "       'Neighborhood_Гольяново', 'Neighborhood_Метрогородок',\n",
    "       'Neighborhood_Молжаниновскийрайон', 'Neighborhood_Московский',\n",
    "       'Neighborhood_НагатиноСадовники', 'Neighborhood_Отрадное',\n",
    "       'Neighborhood_ОчаковоМатвеевское', 'Neighborhood_ПокровскоеСтрешнево',\n",
    "       'Neighborhood_Рязанскийрайон', 'Neighborhood_ФилёвскийПарк',\n",
    "       'Neighborhood_ЧертановоЮжное', 'Neighborhood_Черёмушки',\n",
    "       'Neighborhood_Южнопортовыйрайон', 'Price_Meter']].corr()\n",
    "correlations['Price_Meter']"
   ]
  },
  {
   "cell_type": "markdown",
   "id": "f1f06edc",
   "metadata": {},
   "source": [
    "**Здесь аналогично мы видим, что статистически благоприятно влияет на цену квартиры ее расположение, например, в Покровское-Стрешнево, Филёвский парк, Черёмушки районах Москвы. Противоположная ситуация, например, в районе Чертаново Южное.**"
   ]
  },
  {
   "cell_type": "code",
   "execution_count": 12,
   "id": "2b27ab5c",
   "metadata": {},
   "outputs": [
    {
     "data": {
      "image/png": "[encoded data removed]",
      "text/plain": [
       "<Figure size 720x576 with 2 Axes>"
      ]
     },
     "metadata": {
      "needs_background": "light"
     },
     "output_type": "display_data"
    }
   ],
   "source": [
    "correlations = df[['Rooms', 'Floor_Live', 'Floor_Total', 'Price_Meter']].corr()\n",
    "plt.figure(figsize=(10, 8))\n",
    "sns.heatmap(correlations, annot=True, cmap='mako', square=True, annot_kws={\"fontsize\": 25})\n",
    "plt.title('Correlation Matrix')\n",
    "plt.show()"
   ]
  },
  {
   "cell_type": "markdown",
   "id": "19fbbc8b",
   "metadata": {},
   "source": [
    "**Здесь мы видим, что количество комнат и этаж негативно влияет на цену за квадратный ментр, общее количество этажей в доме почти не оказывает никакого влияния. Кроме того, также можно заметить, чем больше этажей в доме, тем меньше комнат в квартире.**"
   ]
  },
  {
   "cell_type": "markdown",
   "id": "e648b7b2",
   "metadata": {},
   "source": [
    "# Проверка гипотез"
   ]
  },
  {
   "cell_type": "markdown",
   "id": "493d35d2",
   "metadata": {},
   "source": [
    "**Гипотеза**: Округ и район влияет на цену за квадратный метр\n",
    "\n",
    "**Метод**: ANOVA (предложен Chat GPT, его комментарий ниже:)\n",
    "\n",
    "**INPUT**: Как работает модель Anova, как интерпретировать ее результаты? Для исследования каких зависимостей она хороша?\n",
    "\n",
    "**CHAT-GPT**: Модель ANOVA (анализ дисперсии) используется для определения статистической значимости различий между средними значениями двух или более групп или условий. Она позволяет оценить влияние факторов на зависимую переменную и определить, есть ли статистически значимые различия между этими факторами.\n",
    "\n",
    "Результаты модели ANOVA представлены в таблице ANOVA, которая содержит степени свободы, суммы квадратов, среднеквадратические отклонения, значения статистики F и p-значения для каждого фактора и ошибки модели.\n",
    "\n",
    "Интерпретация результатов модели ANOVA включает следующие шаги:\n",
    "\n",
    "Проверка гипотезы: Нулевая гипотеза предполагает, что нет статистически значимых различий между группами или условиями. Альтернативная гипотеза предполагает, что существуют статистически значимые различия.\n",
    "\n",
    "Значение статистики F: Значение статистики F вычисляется как отношение среднеквадратического отклонения между группами к среднеквадратическому отклонению внутри групп. Большое значение статистики F указывает на наличие статистически значимых различий между группами.\n",
    "\n",
    "P-значение: P-значение представляет вероятность получить наблюдаемое значение статистики F или еще более экстремальное значение, при условии, что нулевая гипотеза верна. Если p-значение меньше выбранного уровня значимости (обычно 0.05), то нулевая гипотеза отвергается, и можно сделать вывод о статистически значимых различиях между группами.\n",
    "\n",
    "Выводы: Если нулевая гипотеза отвергается, можно сделать вывод о статистически значимых различиях между группами или условиями. Если нулевая гипотеза не отвергается, можно сделать вывод, что различия между группами статистически незначимы.\n",
    "\n",
    "Модель ANOVA хорошо подходит для исследования зависимостей, когда есть несколько групп или условий, и требуется определить, есть ли статистически значимые различия между этими группами. Например, она может использоваться для определения влияния разных лекарственных препаратов на эффективность лечения, влияния разных методов обучения на успеваемость студентов или влияния различных рекламных кампаний на продажи товаров."
   ]
  },
  {
   "cell_type": "code",
   "execution_count": 13,
   "id": "e93ba6ca",
   "metadata": {},
   "outputs": [
    {
     "name": "stderr",
     "output_type": "stream",
     "text": [
      "C:\\Users\\a7987\\anaconda3\\lib\\site-packages\\statsmodels\\tsa\\base\\tsa_model.py:7: FutureWarning: pandas.Int64Index is deprecated and will be removed from pandas in a future version. Use pandas.Index with the appropriate dtype instead.\n",
      "  from pandas import (to_datetime, Int64Index, DatetimeIndex, Period,\n",
      "C:\\Users\\a7987\\anaconda3\\lib\\site-packages\\statsmodels\\tsa\\base\\tsa_model.py:7: FutureWarning: pandas.Float64Index is deprecated and will be removed from pandas in a future version. Use pandas.Index with the appropriate dtype instead.\n",
      "  from pandas import (to_datetime, Int64Index, DatetimeIndex, Period,\n"
     ]
    },
    {
     "name": "stdout",
     "output_type": "stream",
     "text": [
      "                 sum_sq      df           F        PR(>F)\n",
      "Zone_ВАО   4.895974e+09     1.0    6.148767  1.318313e-02\n",
      "Zone_ЗАО   2.247879e+10     1.0   28.230722  1.123627e-07\n",
      "Zone_САО   1.315468e+09     1.0    1.652073  1.987367e-01\n",
      "Zone_СВАО  8.295568e+09     1.0   10.418258  1.255822e-03\n",
      "Zone_СЗАО  2.398448e+11     1.0  301.216861  1.455942e-65\n",
      "Zone_ЮАО   3.644711e+08     1.0    0.457733  4.987168e-01\n",
      "Zone_ЮВАО  1.209634e+10     1.0   15.191582  9.840881e-05\n",
      "Zone_ЮЗАО  2.484403e+10     1.0   31.201179  2.449524e-08\n",
      "Residual   3.974098e+12  4991.0         NaN           NaN\n",
      "Отвергаем нулевую гипотезу. Округ влияет на цену за квадратный метр.\n"
     ]
    }
   ],
   "source": [
    "import statsmodels.api as sm\n",
    "from statsmodels.formula.api import ols\n",
    "\n",
    "formula = 'Price_Meter ~ Zone_ВАО + Zone_ЗАО + Zone_САО + Zone_СВАО + Zone_СЗАО + Zone_ЮАО + Zone_ЮВАО + Zone_ЮЗАО'\n",
    "model = ols(formula, data=df).fit()\n",
    "anova_table = sm.stats.anova_lm(model, typ=2)\n",
    "print(anova_table)\n",
    "# Вывод результатов ANOVA\n",
    "if anova_table['PR(>F)'][0] < 0.05:\n",
    "    print(\"Отвергаем нулевую гипотезу. Округ влияет на цену за квадратный метр.\")\n",
    "else:\n",
    "    print('Не отвергаем нулевую гипотезу. Нет статистически значимого влияния района на цену')"
   ]
  },
  {
   "cell_type": "code",
   "execution_count": 35,
   "id": "a321d0e0",
   "metadata": {},
   "outputs": [
    {
     "name": "stdout",
     "output_type": "stream",
     "text": [
      "                                        sum_sq      df         F    PR(>F)\n",
      "Neighborhood_Бабушкинскийрайон    1.754928e+09     1.0  5.628959  0.017704\n",
      "Neighborhood_Гольяново            1.754928e+09     1.0  5.628959  0.017704\n",
      "Neighborhood_Метрогородок         1.754928e+09     1.0  5.628959  0.017704\n",
      "Neighborhood_Молжаниновскийрайон  1.754928e+09     1.0  5.628959  0.017704\n",
      "Neighborhood_Московский           1.754928e+09     1.0  5.628959  0.017704\n",
      "Neighborhood_НагатиноСадовники    1.754928e+09     1.0  5.628959  0.017704\n",
      "Neighborhood_Отрадное             1.754928e+09     1.0  5.628959  0.017704\n",
      "Neighborhood_ОчаковоМатвеевское   1.754928e+09     1.0  5.628959  0.017704\n",
      "Neighborhood_ПокровскоеСтрешнево  1.754928e+09     1.0  5.628959  0.017704\n",
      "Neighborhood_Рязанскийрайон       1.754928e+09     1.0  5.628959  0.017704\n",
      "Neighborhood_ФилёвскийПарк        1.754928e+09     1.0  5.628959  0.017704\n",
      "Neighborhood_ЧертановоЮжное       1.754928e+09     1.0  5.628959  0.017704\n",
      "Neighborhood_Черёмушки            1.754928e+09     1.0  5.628959  0.017704\n",
      "Neighborhood_Южнопортовыйрайон    1.754928e+09     1.0  5.628959  0.017704\n",
      "Residual                          1.554474e+12  4986.0       NaN       NaN\n",
      "Отвергаем нулевую гипотезу. Район влияет на цену за квадратный метр.\n"
     ]
    }
   ],
   "source": [
    "import patsy\n",
    "import statsmodels.api as sm\n",
    "from statsmodels.formula.api import ols\n",
    "formula = 'Price_Meter ~ Neighborhood_Бабушкинскийрайон + Neighborhood_Гольяново + Neighborhood_Метрогородок + Neighborhood_Молжаниновскийрайон + Neighborhood_Московский + Neighborhood_НагатиноСадовники + Neighborhood_Отрадное + Neighborhood_ОчаковоМатвеевское + Neighborhood_ПокровскоеСтрешнево + Neighborhood_Рязанскийрайон + Neighborhood_ФилёвскийПарк + Neighborhood_ЧертановоЮжное + Neighborhood_Черёмушки + Neighborhood_Южнопортовыйрайон'\n",
    "model = ols(formula, data=df).fit()\n",
    "anova_table = sm.stats.anova_lm(model, typ=2)\n",
    "print(anova_table)\n",
    "# Вывод результатов ANOVA\n",
    "if anova_table['PR(>F)'][0] < 0.05:\n",
    "    print(\"Отвергаем нулевую гипотезу. Район влияет на цену за квадратный метр.\")\n",
    "else:\n",
    "    print('Не отвергаем нулевую гипотезу. Нет статистически значимого влияния района на цену')"
   ]
  },
  {
   "cell_type": "markdown",
   "id": "11373e77",
   "metadata": {},
   "source": [
    "# Машинное обучение"
   ]
  },
  {
   "cell_type": "code",
   "execution_count": 17,
   "id": "74e1febc",
   "metadata": {},
   "outputs": [],
   "source": [
    "data = df.drop(['Price_Meter', 'Neighborhood', 'Zone'], axis = 1)\n",
    "features = data.drop('Price_Total', axis=1)  # Все столбцы, кроме \"Цена\"\n",
    "target = data['Price_Total']"
   ]
  },
  {
   "cell_type": "code",
   "execution_count": 18,
   "id": "4352ae1d",
   "metadata": {},
   "outputs": [
    {
     "data": {
      "text/html": [
       "<div>\n",
       "<style scoped>\n",
       "    .dataframe tbody tr th:only-of-type {\n",
       "        vertical-align: middle;\n",
       "    }\n",
       "\n",
       "    .dataframe tbody tr th {\n",
       "        vertical-align: top;\n",
       "    }\n",
       "\n",
       "    .dataframe thead th {\n",
       "        text-align: right;\n",
       "    }\n",
       "</style>\n",
       "<table border=\"1\" class=\"dataframe\">\n",
       "  <thead>\n",
       "    <tr style=\"text-align: right;\">\n",
       "      <th></th>\n",
       "      <th>Price_Total</th>\n",
       "      <th>Area</th>\n",
       "      <th>Rooms</th>\n",
       "      <th>Floor_Live</th>\n",
       "      <th>Floor_Total</th>\n",
       "      <th>Distance</th>\n",
       "      <th>Time</th>\n",
       "      <th>Zone_ВАО</th>\n",
       "      <th>Zone_ЗАО</th>\n",
       "      <th>Zone_Новая Москва</th>\n",
       "      <th>...</th>\n",
       "      <th>Neighborhood_Московский</th>\n",
       "      <th>Neighborhood_НагатиноСадовники</th>\n",
       "      <th>Neighborhood_Отрадное</th>\n",
       "      <th>Neighborhood_ОчаковоМатвеевское</th>\n",
       "      <th>Neighborhood_ПокровскоеСтрешнево</th>\n",
       "      <th>Neighborhood_Рязанскийрайон</th>\n",
       "      <th>Neighborhood_ФилёвскийПарк</th>\n",
       "      <th>Neighborhood_ЧертановоЮжное</th>\n",
       "      <th>Neighborhood_Черёмушки</th>\n",
       "      <th>Neighborhood_Южнопортовыйрайон</th>\n",
       "    </tr>\n",
       "  </thead>\n",
       "  <tbody>\n",
       "    <tr>\n",
       "      <th>0</th>\n",
       "      <td>11850601</td>\n",
       "      <td>36.5</td>\n",
       "      <td>1</td>\n",
       "      <td>24</td>\n",
       "      <td>38</td>\n",
       "      <td>5.0</td>\n",
       "      <td>9.0</td>\n",
       "      <td>0.0</td>\n",
       "      <td>0.0</td>\n",
       "      <td>0.0</td>\n",
       "      <td>...</td>\n",
       "      <td>0.0</td>\n",
       "      <td>0.0</td>\n",
       "      <td>0.0</td>\n",
       "      <td>0.0</td>\n",
       "      <td>0.0</td>\n",
       "      <td>0.0</td>\n",
       "      <td>0.0</td>\n",
       "      <td>0.0</td>\n",
       "      <td>0.0</td>\n",
       "      <td>1.0</td>\n",
       "    </tr>\n",
       "    <tr>\n",
       "      <th>1</th>\n",
       "      <td>9265190</td>\n",
       "      <td>34.2</td>\n",
       "      <td>1</td>\n",
       "      <td>15</td>\n",
       "      <td>33</td>\n",
       "      <td>10.5</td>\n",
       "      <td>12.0</td>\n",
       "      <td>1.0</td>\n",
       "      <td>0.0</td>\n",
       "      <td>0.0</td>\n",
       "      <td>...</td>\n",
       "      <td>0.0</td>\n",
       "      <td>0.0</td>\n",
       "      <td>0.0</td>\n",
       "      <td>0.0</td>\n",
       "      <td>0.0</td>\n",
       "      <td>0.0</td>\n",
       "      <td>0.0</td>\n",
       "      <td>0.0</td>\n",
       "      <td>0.0</td>\n",
       "      <td>0.0</td>\n",
       "    </tr>\n",
       "    <tr>\n",
       "      <th>2</th>\n",
       "      <td>10594407</td>\n",
       "      <td>34.2</td>\n",
       "      <td>2</td>\n",
       "      <td>7</td>\n",
       "      <td>15</td>\n",
       "      <td>12.0</td>\n",
       "      <td>11.0</td>\n",
       "      <td>0.0</td>\n",
       "      <td>0.0</td>\n",
       "      <td>0.0</td>\n",
       "      <td>...</td>\n",
       "      <td>0.0</td>\n",
       "      <td>0.0</td>\n",
       "      <td>0.0</td>\n",
       "      <td>0.0</td>\n",
       "      <td>0.0</td>\n",
       "      <td>0.0</td>\n",
       "      <td>0.0</td>\n",
       "      <td>0.0</td>\n",
       "      <td>0.0</td>\n",
       "      <td>0.0</td>\n",
       "    </tr>\n",
       "    <tr>\n",
       "      <th>3</th>\n",
       "      <td>9353943</td>\n",
       "      <td>36.1</td>\n",
       "      <td>1</td>\n",
       "      <td>31</td>\n",
       "      <td>33</td>\n",
       "      <td>18.5</td>\n",
       "      <td>7.0</td>\n",
       "      <td>0.0</td>\n",
       "      <td>0.0</td>\n",
       "      <td>0.0</td>\n",
       "      <td>...</td>\n",
       "      <td>0.0</td>\n",
       "      <td>0.0</td>\n",
       "      <td>0.0</td>\n",
       "      <td>0.0</td>\n",
       "      <td>0.0</td>\n",
       "      <td>0.0</td>\n",
       "      <td>0.0</td>\n",
       "      <td>1.0</td>\n",
       "      <td>0.0</td>\n",
       "      <td>0.0</td>\n",
       "    </tr>\n",
       "    <tr>\n",
       "      <th>4</th>\n",
       "      <td>8484026</td>\n",
       "      <td>24.4</td>\n",
       "      <td>0</td>\n",
       "      <td>19</td>\n",
       "      <td>21</td>\n",
       "      <td>12.1</td>\n",
       "      <td>9.0</td>\n",
       "      <td>0.0</td>\n",
       "      <td>1.0</td>\n",
       "      <td>0.0</td>\n",
       "      <td>...</td>\n",
       "      <td>0.0</td>\n",
       "      <td>0.0</td>\n",
       "      <td>0.0</td>\n",
       "      <td>1.0</td>\n",
       "      <td>0.0</td>\n",
       "      <td>0.0</td>\n",
       "      <td>0.0</td>\n",
       "      <td>0.0</td>\n",
       "      <td>0.0</td>\n",
       "      <td>0.0</td>\n",
       "    </tr>\n",
       "    <tr>\n",
       "      <th>...</th>\n",
       "      <td>...</td>\n",
       "      <td>...</td>\n",
       "      <td>...</td>\n",
       "      <td>...</td>\n",
       "      <td>...</td>\n",
       "      <td>...</td>\n",
       "      <td>...</td>\n",
       "      <td>...</td>\n",
       "      <td>...</td>\n",
       "      <td>...</td>\n",
       "      <td>...</td>\n",
       "      <td>...</td>\n",
       "      <td>...</td>\n",
       "      <td>...</td>\n",
       "      <td>...</td>\n",
       "      <td>...</td>\n",
       "      <td>...</td>\n",
       "      <td>...</td>\n",
       "      <td>...</td>\n",
       "      <td>...</td>\n",
       "      <td>...</td>\n",
       "    </tr>\n",
       "    <tr>\n",
       "      <th>4995</th>\n",
       "      <td>15009300</td>\n",
       "      <td>45.9</td>\n",
       "      <td>2</td>\n",
       "      <td>6</td>\n",
       "      <td>29</td>\n",
       "      <td>11.2</td>\n",
       "      <td>14.0</td>\n",
       "      <td>0.0</td>\n",
       "      <td>0.0</td>\n",
       "      <td>0.0</td>\n",
       "      <td>...</td>\n",
       "      <td>0.0</td>\n",
       "      <td>0.0</td>\n",
       "      <td>0.0</td>\n",
       "      <td>0.0</td>\n",
       "      <td>0.0</td>\n",
       "      <td>0.0</td>\n",
       "      <td>0.0</td>\n",
       "      <td>0.0</td>\n",
       "      <td>1.0</td>\n",
       "      <td>0.0</td>\n",
       "    </tr>\n",
       "    <tr>\n",
       "      <th>4996</th>\n",
       "      <td>9764700</td>\n",
       "      <td>26.9</td>\n",
       "      <td>1</td>\n",
       "      <td>22</td>\n",
       "      <td>29</td>\n",
       "      <td>11.2</td>\n",
       "      <td>14.0</td>\n",
       "      <td>0.0</td>\n",
       "      <td>0.0</td>\n",
       "      <td>0.0</td>\n",
       "      <td>...</td>\n",
       "      <td>0.0</td>\n",
       "      <td>0.0</td>\n",
       "      <td>0.0</td>\n",
       "      <td>0.0</td>\n",
       "      <td>0.0</td>\n",
       "      <td>0.0</td>\n",
       "      <td>0.0</td>\n",
       "      <td>0.0</td>\n",
       "      <td>1.0</td>\n",
       "      <td>0.0</td>\n",
       "    </tr>\n",
       "    <tr>\n",
       "      <th>4997</th>\n",
       "      <td>8793187</td>\n",
       "      <td>36.2</td>\n",
       "      <td>1</td>\n",
       "      <td>20</td>\n",
       "      <td>33</td>\n",
       "      <td>18.5</td>\n",
       "      <td>7.0</td>\n",
       "      <td>0.0</td>\n",
       "      <td>0.0</td>\n",
       "      <td>0.0</td>\n",
       "      <td>...</td>\n",
       "      <td>0.0</td>\n",
       "      <td>0.0</td>\n",
       "      <td>0.0</td>\n",
       "      <td>0.0</td>\n",
       "      <td>0.0</td>\n",
       "      <td>0.0</td>\n",
       "      <td>0.0</td>\n",
       "      <td>1.0</td>\n",
       "      <td>0.0</td>\n",
       "      <td>0.0</td>\n",
       "    </tr>\n",
       "    <tr>\n",
       "      <th>4998</th>\n",
       "      <td>8226025</td>\n",
       "      <td>34.1</td>\n",
       "      <td>1</td>\n",
       "      <td>9</td>\n",
       "      <td>33</td>\n",
       "      <td>18.5</td>\n",
       "      <td>7.0</td>\n",
       "      <td>0.0</td>\n",
       "      <td>0.0</td>\n",
       "      <td>0.0</td>\n",
       "      <td>...</td>\n",
       "      <td>0.0</td>\n",
       "      <td>0.0</td>\n",
       "      <td>0.0</td>\n",
       "      <td>0.0</td>\n",
       "      <td>0.0</td>\n",
       "      <td>0.0</td>\n",
       "      <td>0.0</td>\n",
       "      <td>1.0</td>\n",
       "      <td>0.0</td>\n",
       "      <td>0.0</td>\n",
       "    </tr>\n",
       "    <tr>\n",
       "      <th>4999</th>\n",
       "      <td>8731910</td>\n",
       "      <td>25.4</td>\n",
       "      <td>0</td>\n",
       "      <td>32</td>\n",
       "      <td>33</td>\n",
       "      <td>8.5</td>\n",
       "      <td>20.0</td>\n",
       "      <td>0.0</td>\n",
       "      <td>0.0</td>\n",
       "      <td>0.0</td>\n",
       "      <td>...</td>\n",
       "      <td>0.0</td>\n",
       "      <td>1.0</td>\n",
       "      <td>0.0</td>\n",
       "      <td>0.0</td>\n",
       "      <td>0.0</td>\n",
       "      <td>0.0</td>\n",
       "      <td>0.0</td>\n",
       "      <td>0.0</td>\n",
       "      <td>0.0</td>\n",
       "      <td>0.0</td>\n",
       "    </tr>\n",
       "  </tbody>\n",
       "</table>\n",
       "<p>5000 rows × 30 columns</p>\n",
       "</div>"
      ],
      "text/plain": [
       "      Price_Total  Area  Rooms  Floor_Live  Floor_Total  Distance  Time  \\\n",
       "0        11850601  36.5      1          24           38       5.0   9.0   \n",
       "1         9265190  34.2      1          15           33      10.5  12.0   \n",
       "2        10594407  34.2      2           7           15      12.0  11.0   \n",
       "3         9353943  36.1      1          31           33      18.5   7.0   \n",
       "4         8484026  24.4      0          19           21      12.1   9.0   \n",
       "...           ...   ...    ...         ...          ...       ...   ...   \n",
       "4995     15009300  45.9      2           6           29      11.2  14.0   \n",
       "4996      9764700  26.9      1          22           29      11.2  14.0   \n",
       "4997      8793187  36.2      1          20           33      18.5   7.0   \n",
       "4998      8226025  34.1      1           9           33      18.5   7.0   \n",
       "4999      8731910  25.4      0          32           33       8.5  20.0   \n",
       "\n",
       "      Zone_ВАО  Zone_ЗАО  Zone_Новая Москва  ...  Neighborhood_Московский  \\\n",
       "0          0.0       0.0                0.0  ...                      0.0   \n",
       "1          1.0       0.0                0.0  ...                      0.0   \n",
       "2          0.0       0.0                0.0  ...                      0.0   \n",
       "3          0.0       0.0                0.0  ...                      0.0   \n",
       "4          0.0       1.0                0.0  ...                      0.0   \n",
       "...        ...       ...                ...  ...                      ...   \n",
       "4995       0.0       0.0                0.0  ...                      0.0   \n",
       "4996       0.0       0.0                0.0  ...                      0.0   \n",
       "4997       0.0       0.0                0.0  ...                      0.0   \n",
       "4998       0.0       0.0                0.0  ...                      0.0   \n",
       "4999       0.0       0.0                0.0  ...                      0.0   \n",
       "\n",
       "      Neighborhood_НагатиноСадовники  Neighborhood_Отрадное  \\\n",
       "0                                0.0                    0.0   \n",
       "1                                0.0                    0.0   \n",
       "2                                0.0                    0.0   \n",
       "3                                0.0                    0.0   \n",
       "4                                0.0                    0.0   \n",
       "...                              ...                    ...   \n",
       "4995                             0.0                    0.0   \n",
       "4996                             0.0                    0.0   \n",
       "4997                             0.0                    0.0   \n",
       "4998                             0.0                    0.0   \n",
       "4999                             1.0                    0.0   \n",
       "\n",
       "      Neighborhood_ОчаковоМатвеевское  Neighborhood_ПокровскоеСтрешнево  \\\n",
       "0                                 0.0                               0.0   \n",
       "1                                 0.0                               0.0   \n",
       "2                                 0.0                               0.0   \n",
       "3                                 0.0                               0.0   \n",
       "4                                 1.0                               0.0   \n",
       "...                               ...                               ...   \n",
       "4995                              0.0                               0.0   \n",
       "4996                              0.0                               0.0   \n",
       "4997                              0.0                               0.0   \n",
       "4998                              0.0                               0.0   \n",
       "4999                              0.0                               0.0   \n",
       "\n",
       "      Neighborhood_Рязанскийрайон  Neighborhood_ФилёвскийПарк  \\\n",
       "0                             0.0                         0.0   \n",
       "1                             0.0                         0.0   \n",
       "2                             0.0                         0.0   \n",
       "3                             0.0                         0.0   \n",
       "4                             0.0                         0.0   \n",
       "...                           ...                         ...   \n",
       "4995                          0.0                         0.0   \n",
       "4996                          0.0                         0.0   \n",
       "4997                          0.0                         0.0   \n",
       "4998                          0.0                         0.0   \n",
       "4999                          0.0                         0.0   \n",
       "\n",
       "      Neighborhood_ЧертановоЮжное  Neighborhood_Черёмушки  \\\n",
       "0                             0.0                     0.0   \n",
       "1                             0.0                     0.0   \n",
       "2                             0.0                     0.0   \n",
       "3                             1.0                     0.0   \n",
       "4                             0.0                     0.0   \n",
       "...                           ...                     ...   \n",
       "4995                          0.0                     1.0   \n",
       "4996                          0.0                     1.0   \n",
       "4997                          1.0                     0.0   \n",
       "4998                          1.0                     0.0   \n",
       "4999                          0.0                     0.0   \n",
       "\n",
       "      Neighborhood_Южнопортовыйрайон  \n",
       "0                                1.0  \n",
       "1                                0.0  \n",
       "2                                0.0  \n",
       "3                                0.0  \n",
       "4                                0.0  \n",
       "...                              ...  \n",
       "4995                             0.0  \n",
       "4996                             0.0  \n",
       "4997                             0.0  \n",
       "4998                             0.0  \n",
       "4999                             0.0  \n",
       "\n",
       "[5000 rows x 30 columns]"
      ]
     },
     "execution_count": 18,
     "metadata": {},
     "output_type": "execute_result"
    }
   ],
   "source": [
    "data"
   ]
  },
  {
   "cell_type": "code",
   "execution_count": 21,
   "id": "d266302e",
   "metadata": {},
   "outputs": [],
   "source": [
    "X_train, X_test, y_train, y_test = train_test_split(features, target, test_size=0.2, random_state=42)\n",
    "scaler = StandardScaler()\n",
    "X_train_scaled = scaler.fit_transform(X_train)\n",
    "X_test_scaled = scaler.transform(X_test)"
   ]
  },
  {
   "cell_type": "code",
   "execution_count": 31,
   "id": "ae17f713",
   "metadata": {},
   "outputs": [
    {
     "name": "stdout",
     "output_type": "stream",
     "text": [
      "Лучшие гиперпараметры для LinearRegressor: {'fit_intercept': True, 'normalize': False}\n"
     ]
    }
   ],
   "source": [
    "model = LinearRegression()\n",
    "param_grid = {'normalize': [True, False],\n",
    "              'fit_intercept': [True, False]}\n",
    "\n",
    "grid_search = GridSearchCV(model, param_grid, cv=5)\n",
    "grid_search.fit(X_train_scaled, y_train)\n",
    "\n",
    "print(\"Лучшие гиперпараметры для LinearRegressor:\", grid_search.best_params_)"
   ]
  },
  {
   "cell_type": "code",
   "execution_count": 34,
   "id": "f893b079",
   "metadata": {},
   "outputs": [
    {
     "name": "stdout",
     "output_type": "stream",
     "text": [
      "Train R^2 score: 0.94\n",
      "Test R^2 score: 0.89\n"
     ]
    }
   ],
   "source": [
    "model = LinearRegression(**grid_search.best_params_)\n",
    "model.fit(X_train_scaled, y_train)\n",
    "\n",
    "train_score = model.score(X_train_scaled, y_train)\n",
    "test_score = model.score(X_test_scaled, y_test)\n",
    "print(f\"Train R^2 score: {train_score:.2f}\")\n",
    "print(f\"Test R^2 score: {test_score:.2f}\")"
   ]
  },
  {
   "cell_type": "markdown",
   "id": "5d261300",
   "metadata": {},
   "source": [
    "**Здесь попробовали применить обычную линейную регрессию, получили вполне неплохие результаты. Теперь воспользуемся Catboost:**"
   ]
  },
  {
   "cell_type": "code",
   "execution_count": 39,
   "id": "cd703ee8",
   "metadata": {},
   "outputs": [
    {
     "name": "stdout",
     "output_type": "stream",
     "text": [
      "Лучшие гиперпараметры для CatBoostRegressor: {'depth': 6, 'iterations': 100, 'learning_rate': 0.5}\n"
     ]
    }
   ],
   "source": [
    "param_grid = {'iterations': [100, 200, 300], 'learning_rate': [0.01, 0.1, 0.5], 'depth': [4, 6, 8]}\n",
    "\n",
    "model = CatBoostRegressor(verbose=False)\n",
    "\n",
    "grid_search = GridSearchCV(model, param_grid, cv=5)\n",
    "grid_search.fit(X_train_scaled, y_train)\n",
    "\n",
    "\n",
    "print(\"Лучшие гиперпараметры для CatBoostRegressor:\", grid_search.best_params_)"
   ]
  },
  {
   "cell_type": "code",
   "execution_count": 40,
   "id": "bfb832e6",
   "metadata": {},
   "outputs": [
    {
     "name": "stdout",
     "output_type": "stream",
     "text": [
      "Train R^2 score: 1.00\n",
      "Test R^2 score: 0.99\n"
     ]
    }
   ],
   "source": [
    "model = CatBoostRegressor(**grid_search.best_params_, verbose = False)\n",
    "model.fit(X_train_scaled, y_train)\n",
    "\n",
    "train_score = model.score(X_train_scaled, y_train)\n",
    "test_score = model.score(X_test_scaled, y_test)\n",
    "print(f\"Train R^2 score: {train_score:.2f}\")\n",
    "print(f\"Test R^2 score: {test_score:.2f}\")"
   ]
  },
  {
   "cell_type": "markdown",
   "id": "01606e14",
   "metadata": {},
   "source": [
    "**Качество модели серьезно улучшилось, получили отличный результат.**"
   ]
  },
  {
   "cell_type": "code",
   "execution_count": 48,
   "id": "60ff8279",
   "metadata": {},
   "outputs": [
    {
     "data": {
      "text/plain": [
       "Index(['Area', 'Rooms', 'Floor_Live', 'Floor_Total', 'Distance', 'Time',\n",
       "       'Zone_ВАО', 'Zone_ЗАО', 'Zone_Новая Москва', 'Zone_САО', 'Zone_СВАО',\n",
       "       'Zone_СЗАО', 'Zone_ЮАО', 'Zone_ЮВАО', 'Zone_ЮЗАО',\n",
       "       'Neighborhood_Бабушкинскийрайон', 'Neighborhood_Гольяново',\n",
       "       'Neighborhood_Метрогородок', 'Neighborhood_Молжаниновскийрайон',\n",
       "       'Neighborhood_Московский', 'Neighborhood_НагатиноСадовники',\n",
       "       'Neighborhood_Отрадное', 'Neighborhood_ОчаковоМатвеевское',\n",
       "       'Neighborhood_ПокровскоеСтрешнево', 'Neighborhood_Рязанскийрайон',\n",
       "       'Neighborhood_ФилёвскийПарк', 'Neighborhood_ЧертановоЮжное',\n",
       "       'Neighborhood_Черёмушки', 'Neighborhood_Южнопортовыйрайон'],\n",
       "      dtype='object')"
      ]
     },
     "execution_count": 48,
     "metadata": {},
     "output_type": "execute_result"
    }
   ],
   "source": [
    "features.columns"
   ]
  },
  {
   "cell_type": "markdown",
   "id": "b690a5bb",
   "metadata": {},
   "source": [
    "Мне стало интересно, решил посмотреть реальный пример прогнозирования цены, взял совсем другой сайт - ЦИАН (данные для проекта парсил с сайта m2.ru, т.к. с ЦИАНа не получилось) . Взял квартиру из ЖК Символ (в котором хочу когда-нибудь приобрести жилье) и решил оценить, насколько близкую цену к цене объявления предскажет модель.\n",
    "\n",
    "https://www.cian.ru/sale/flat/279992274/\n",
    "\n",
    "Вот квартира, параметры: 58 этаж, 2 комнаты, 14 этаж, 28 этажей в доме, 5 км до центра, 15 минут до метро, расположена в ЮВАО, (Лефортовский район в выборку почему-то с сайта не попал, но ближе всего - район Южнопортовый, поэтому берем его) Южнопортовый район.\n",
    "\n",
    "Цена в объявлении: 22.5 млн. руб"
   ]
  },
  {
   "cell_type": "code",
   "execution_count": 50,
   "id": "2c7239c8",
   "metadata": {},
   "outputs": [
    {
     "data": {
      "text/plain": [
       "25437044.09499304"
      ]
     },
     "execution_count": 50,
     "metadata": {},
     "output_type": "execute_result"
    }
   ],
   "source": [
    "model.predict([58, 2, 14, 28, 5, 15, 0, 0, 0, 0, 0, 0, 0, 1, 0, 0, 0, 0, 0, 0, 0, 0, 0, 0, 0, 0, 0, 0, 1])"
   ]
  },
  {
   "cell_type": "markdown",
   "id": "c41c4093",
   "metadata": {},
   "source": [
    "Модель предсказала цену в районе 25.4 млн. руб, отклонение примерно 10%. В целом, мне кажется, что результат - ОК."
   ]
  },
  {
   "cell_type": "code",
   "execution_count": 72,
   "id": "8c57d42a",
   "metadata": {},
   "outputs": [
    {
     "name": "stdout",
     "output_type": "stream",
     "text": [
      "0 Area 44.4960190678\n",
      "1 Rooms 10.8453311530\n",
      "2 Floor_Live 1.7418097730\n",
      "3 Floor_Total 8.2609451132\n",
      "4 Distance 10.3010878176\n",
      "5 Time 6.0175903770\n",
      "6 Zone_ВАО 0.0007442968\n",
      "7 Zone_ЗАО 0.0000000000\n",
      "8 Zone_Новая Москва 0.0010453835\n",
      "9 Zone_САО 0.0000000000\n",
      "10 Zone_СВАО 0.0003450471\n",
      "11 Zone_СЗАО 15.8308694195\n",
      "12 Zone_ЮАО 0.0021757057\n",
      "13 Zone_ЮВАО 0.0001600554\n",
      "14 Zone_ЮЗАО 0.0004665392\n",
      "15 Neighborhood_Бабушкинскийрайон 0.0005552209\n",
      "16 Neighborhood_Гольяново 0.0045455137\n",
      "17 Neighborhood_Метрогородок 0.0019198188\n",
      "18 Neighborhood_Молжаниновскийрайон 0.0000000000\n",
      "19 Neighborhood_Московский 0.0008299031\n",
      "20 Neighborhood_НагатиноСадовники 0.0385517590\n",
      "21 Neighborhood_Отрадное 0.0000000000\n",
      "22 Neighborhood_ОчаковоМатвеевское 0.0000000000\n",
      "23 Neighborhood_ПокровскоеСтрешнево 2.3583127669\n",
      "24 Neighborhood_Рязанскийрайон 0.0000313807\n",
      "25 Neighborhood_ФилёвскийПарк 0.0944921902\n",
      "26 Neighborhood_ЧертановоЮжное 0.0013701844\n",
      "27 Neighborhood_Черёмушки 0.0000000000\n",
      "28 Neighborhood_Южнопортовыйрайон 0.0008015137\n"
     ]
    }
   ],
   "source": [
    "#приведение чисел к нормальному виду написал chat gpt\n",
    "\n",
    "feature_importance = model.feature_importances_\n",
    "feature_importance\n",
    "def format_float(value):\n",
    "    return '{:.10f}'.format(value)\n",
    "\n",
    "\n",
    "formatted_values = np.vectorize(format_float)(feature_importance)\n",
    "\n",
    "# Вывод результата\n",
    "for i, (column, value) in enumerate(zip(features.columns, formatted_values)):\n",
    "    print(i, column, value)"
   ]
  },
  {
   "cell_type": "markdown",
   "id": "1b6e5afd",
   "metadata": {},
   "source": [
    "Здесь мы видим, что площадь квартиры больше всего влияет на ее итоговую цену (да, это очевидно)\n",
    "\n",
    "Но, например, количество комнат и дистанция до центра влияют в равной степени. \n",
    "\n",
    "А время до метро играет чуточку меньшую роль. \n",
    "\n",
    "Так же интересно, что большое влияние оказывает количество этажей в доме (скорее всего это связано с тем, что высокоэтажные дома - как правило, новые новостройки, а дома 5-10 этажей - старые сталинки, брежневки и т.д.)\n",
    "\n",
    "Кроме того, расположение квартиры в СЗАО - очень сильно аффектит итоговую цену. \n",
    "\n",
    "А вот некоторые районы совсем не влияют на цену."
   ]
  },
  {
   "cell_type": "markdown",
   "id": "032b2325",
   "metadata": {},
   "source": [
    "# Итог"
   ]
  },
  {
   "cell_type": "markdown",
   "id": "a955a303",
   "metadata": {},
   "source": [
    "Самый большой минус исследования: не были никак учтен следующий параметр - год постройки дома (как мне кажется, очень важно). Причина этого: на сайте, с которого парсились данные, такая информация не была представлена при предварительном просмотре объявления (да, она есть если тыкнуть на само объявление - но каждую страницу в отдельности мы спарсить никак не могли - там разные url адреса и прочее)\n",
    "\n",
    "Кроме того, в выборку не попали многие районы Москвы (хз почему, но объявления публиковались в одних и тех же районах: в Москве 125 районов - а в выборке всего 14 - странно, но тут ничего поделать было нельзя, другие сайты парсинг блокали)\n",
    "\n",
    "Короче, если доводить дело до ума, то нужно брать какую-нибудь нормальну базу данных с норм. сайтов по типу ЦИАНа, брать около 100 + наблюдений для каждого района, чтобы были параметры дома, чтоб вводилась какая-то оценка инфраструктуры (школы, больницы, магазины, парки и прочее). Единственная проблема - где это все достать)\n",
    "\n",
    "Нам, как финансисту и консалтеру интересно было все это изучить, учитывая что в матстат мы не особо могем, но надеемся, что тут не супер бред написан, и хоть чего-то у нас получилось. **Спасибо за терпение тому, кто будет это проверять**"
   ]
  }
 ],
 "metadata": {
  "kernelspec": {
   "display_name": "Python 3 (ipykernel)",
   "language": "python",
   "name": "python3"
  },
  "language_info": {
   "codemirror_mode": {
    "name": "ipython",
    "version": 3
   },
   "file_extension": ".py",
   "mimetype": "text/x-python",
   "name": "python",
   "nbconvert_exporter": "python",
   "pygments_lexer": "ipython3",
   "version": "3.9.7"
  }
 },
 "nbformat": 4,
 "nbformat_minor": 5
}
