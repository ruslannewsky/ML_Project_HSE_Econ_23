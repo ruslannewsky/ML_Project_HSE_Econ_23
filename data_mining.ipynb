{
 "cells": [
  {
   "cell_type": "code",
   "execution_count": 2,
   "id": "43a40132",
   "metadata": {},
   "outputs": [],
   "source": [
    "import requests\n",
    "from bs4 import BeautifulSoup\n",
    "import numpy as np\n",
    "import pandas as pd"
   ]
  },
  {
   "cell_type": "code",
   "execution_count": 2,
   "id": "0e4e78c5",
   "metadata": {},
   "outputs": [],
   "source": [
    "#https://m2.ru/moskva/nedvizhimost/kupit-kvartiru/?districtIds=103&districtIds=81&districtIds=182&districtIds=218&districtIds=15&districtIds=60&districtIds=164&districtIds=37&districtIds={page_num}"
   ]
  },
  {
   "cell_type": "code",
   "execution_count": 48,
   "id": "5ea56eeb",
   "metadata": {},
   "outputs": [],
   "source": [
    "\n",
    "prices = np.array([], dtype = int)\n",
    "area = np.array([], dtype = float)\n",
    "rooms = np.array([])\n",
    "floor = np.array([])\n",
    "price_meters = np.array([], dtype = int)\n",
    "districts = np.array([], dtype = str)\n",
    "time = np.array([])\n",
    "metro = np.array([])\n",
    "seller = np.array([])\n",
    "\n",
    "for page_num in range(1, 251): \n",
    "    url = f\"https://m2.ru/moskva/nedvizhimost/kupit-kvartiru/new/?districtIds=103&districtIds=81&districtIds=182&districtIds=218&districtIds=15&districtIds=60&districtIds=164&districtIds=37&districtIds={page_num}\"\n",
    "\n",
    "    response = requests.get(url)\n",
    "    soup = BeautifulSoup(response.text, 'html.parser')\n",
    "    \n",
    "    for district_elem in soup.find_all('div', {'class': 'ClClickableAddress__links'}):\n",
    "        addresses = district_elem.text.strip()\n",
    "        district = addresses.split('\\n')[0]\n",
    "        districts = np.append(districts, district.replace('\\xa0', '').replace('•', ',').replace(\",\", \".\").replace('.', ',', 5).replace('до центра ', '').replace(' км', ''))\n",
    "    \n",
    "    #находим все элементы с ценами и добавляем их в список\n",
    "    for price_elem in soup.find_all('span', {'itemprop': 'price'}):\n",
    "        price = price_elem['content']\n",
    "        prices = np.append(prices, int(price))\n",
    "        \n",
    "    for info_elem in soup.find_all('div', {'class': 'fonts-module__promo-subheader-alone___4BOzH fonts-module__bold___2Zct2'}):\n",
    "        info = info_elem.text.strip().split(',')\n",
    "        if len(info) == 4:\n",
    "            info = ['.'.join(info[:2])] + info[2:]\n",
    "        area = np.append(area, float(info[0].replace('\\xa0м²', '')))\n",
    "        rooms = np.append(rooms, (info[1].replace('-комн. квартира', '').strip()))\n",
    "        floor = np.append(floor, (info[2].replace('\\xa0этаж', '').strip()))\n",
    "\n",
    "    for price_meter_elem in soup.find_all('div', {'class': 'color-primitives-module__black-400___re9Yh fonts-module__primary___2PNSt'}):\n",
    "        price_meter_str = price_meter_elem.text.replace('&nbsp;', '').replace('₽/м²','')\n",
    "        price_meters = np.append(price_meters, int(price_meter_str.replace('\\xa0', '').replace(' ', '')))\n",
    "        \n",
    "    \n",
    "    for time_elem in soup.find_all('div', {'class': 'colors-named-module__secondary___2WPH_ fonts-module__primary___2PNSt'}):\n",
    "        timing = time_elem.text.strip()\n",
    "        time = np.append(time, int(timing.replace(' мин.', '')))\n",
    "        \n",
    "    for seller_elem in soup.find_all('div', {'class': 'colors-named-module__secondary___2WPH_ fonts-module__small-alone___38xTq AuthorBadge__overflow'}):\n",
    "        sellers = seller_elem.text.strip()\n",
    "        seller = np.append(seller, (sellers.split())[0])\n",
    "        "
   ]
  },
  {
   "cell_type": "code",
   "execution_count": 50,
   "id": "869dff3c",
   "metadata": {},
   "outputs": [
    {
     "data": {
      "text/plain": [
       "5000"
      ]
     },
     "execution_count": 50,
     "metadata": {},
     "output_type": "execute_result"
    }
   ],
   "source": [
    "prices\n",
    "len(prices)"
   ]
  },
  {
   "cell_type": "code",
   "execution_count": 51,
   "id": "07da7c69",
   "metadata": {},
   "outputs": [
    {
     "data": {
      "text/plain": [
       "5000"
      ]
     },
     "execution_count": 51,
     "metadata": {},
     "output_type": "execute_result"
    }
   ],
   "source": [
    "area\n",
    "len(area)"
   ]
  },
  {
   "cell_type": "code",
   "execution_count": 52,
   "id": "fc979d2f",
   "metadata": {},
   "outputs": [
    {
     "data": {
      "text/plain": [
       "5000"
      ]
     },
     "execution_count": 52,
     "metadata": {},
     "output_type": "execute_result"
    }
   ],
   "source": [
    "rooms\n",
    "len(rooms)"
   ]
  },
  {
   "cell_type": "code",
   "execution_count": 53,
   "id": "3068c1aa",
   "metadata": {},
   "outputs": [
    {
     "data": {
      "text/plain": [
       "array([1, 1, 2, ..., 1, 1, 0], dtype=int64)"
      ]
     },
     "execution_count": 53,
     "metadata": {},
     "output_type": "execute_result"
    }
   ],
   "source": [
    "rooms = np.where(rooms == 'студия', '0', rooms)\n",
    "rooms = rooms.astype(np.int64)\n",
    "rooms"
   ]
  },
  {
   "cell_type": "code",
   "execution_count": 54,
   "id": "951813e7",
   "metadata": {},
   "outputs": [
    {
     "data": {
      "text/plain": [
       "5000"
      ]
     },
     "execution_count": 54,
     "metadata": {},
     "output_type": "execute_result"
    }
   ],
   "source": [
    "floor\n",
    "len(floor)"
   ]
  },
  {
   "cell_type": "code",
   "execution_count": 55,
   "id": "6ec4cd3e",
   "metadata": {},
   "outputs": [
    {
     "data": {
      "text/plain": [
       "array([24, 15,  7, ..., 20,  9, 32], dtype=int64)"
      ]
     },
     "metadata": {},
     "output_type": "display_data"
    },
    {
     "data": {
      "text/plain": [
       "array([38, 33, 15, ..., 33, 33, 33], dtype=int64)"
      ]
     },
     "metadata": {},
     "output_type": "display_data"
    }
   ],
   "source": [
    "parts = np.char.partition(floor, '/')\n",
    "floor_live = (parts[:, 0]).astype(np.int64)\n",
    "display(floor_live)\n",
    "floor_total = (parts[:, -1]).astype(np.int64)\n",
    "display(floor_total)"
   ]
  },
  {
   "cell_type": "code",
   "execution_count": 56,
   "id": "429c3168",
   "metadata": {},
   "outputs": [
    {
     "data": {
      "text/plain": [
       "array([324674, 270912, 309778, ..., 243040, 241374, 343776])"
      ]
     },
     "execution_count": 56,
     "metadata": {},
     "output_type": "execute_result"
    }
   ],
   "source": [
    "price_meters"
   ]
  },
  {
   "cell_type": "code",
   "execution_count": 57,
   "id": "6eb32976",
   "metadata": {},
   "outputs": [
    {
     "data": {
      "text/plain": [
       "array(['Москва,ЮВАО,Южнопортовый район,1-й Дубровский проезд,78/14с1,5',\n",
       "       'Москва,ВАО,Метрогородок,Открытое шоссе,18с1,10.5',\n",
       "       'Москва,СВАО,Бабушкинский район,Кольская улица,1,12', ...,\n",
       "       'Москва,ЮАО,Чертаново Южное,улица Газопровод,вл6Г,18.5',\n",
       "       'Москва,ЮАО,Чертаново Южное,улица Газопровод,вл6Г,18.5',\n",
       "       'Москва,ЮАО,Нагатино-Садовники,2-й Нагатинский проезд,2к3,8.5'],\n",
       "      dtype='<U84')"
      ]
     },
     "execution_count": 57,
     "metadata": {},
     "output_type": "execute_result"
    }
   ],
   "source": [
    "districts"
   ]
  },
  {
   "cell_type": "code",
   "execution_count": 58,
   "id": "e53caf68",
   "metadata": {},
   "outputs": [
    {
     "data": {
      "text/plain": [
       "array(['ЮВАО', 'ВАО', 'СВАО', ..., 'ЮАО', 'ЮАО', 'ЮАО'], dtype='<U12')"
      ]
     },
     "execution_count": 58,
     "metadata": {},
     "output_type": "execute_result"
    }
   ],
   "source": [
    "okrugi = np.array([i.split(',')[1] for i in districts])\n",
    "okrugi"
   ]
  },
  {
   "cell_type": "code",
   "execution_count": 59,
   "id": "cf9149de",
   "metadata": {},
   "outputs": [
    {
     "data": {
      "text/plain": [
       "5000"
      ]
     },
     "execution_count": 59,
     "metadata": {},
     "output_type": "execute_result"
    }
   ],
   "source": [
    "raion = np.array([i.split(',')[2] for i in districts])\n",
    "raion[raion == 'Судостроительная улица'] = 'Нагатино-Садовники' #почему то по этой улице в адресах нет района, пробил в гугле - это нагаитно садовники\n",
    "raion\n",
    "len(raion)"
   ]
  },
  {
   "cell_type": "code",
   "execution_count": 60,
   "id": "accb2976",
   "metadata": {},
   "outputs": [
    {
     "data": {
      "text/plain": [
       "array(['5', '10.5', '12', ..., '18.5', '18.5', '8.5'], dtype='<U4')"
      ]
     },
     "execution_count": 60,
     "metadata": {},
     "output_type": "execute_result"
    }
   ],
   "source": [
    "rasstoyanie = np.array([(i.split(','))[-1] for i in districts])\n",
    "rasstoyanie "
   ]
  },
  {
   "cell_type": "code",
   "execution_count": 61,
   "id": "136486ca",
   "metadata": {},
   "outputs": [
    {
     "data": {
      "text/plain": [
       "array(['5.0', '10.5', '12.0', ..., '18.5', '18.5', '8.5'], dtype='<U4')"
      ]
     },
     "execution_count": 61,
     "metadata": {},
     "output_type": "execute_result"
    }
   ],
   "source": [
    "def is_float(value): #https://stackoverflow.com/questions/354038/how-do-i-check-if-a-string-represents-a-number-float-or-int\n",
    "    try:\n",
    "        float(value)\n",
    "        return True\n",
    "    except ValueError:\n",
    "        return False\n",
    "v_is_float = np.vectorize(is_float)\n",
    "\n",
    "#в процессе выяснилось, что есть корявые объявление, где нормальным образом не написано расстояние до центра, \n",
    "#поэтому вызникали всякие странные значения по типу \"25.13.8\", которые я решил просто за NaNить\n",
    "\n",
    "rasstoyanie = np.where(rasstoyanie == 'В центре', '0', rasstoyanie)\n",
    "rasstoyanie[v_is_float(rasstoyanie)] = np.array(rasstoyanie[v_is_float(rasstoyanie)], dtype=np.float64)\n",
    "rasstoyanie[~v_is_float(rasstoyanie)] = None\n",
    "rasstoyanie"
   ]
  },
  {
   "cell_type": "code",
   "execution_count": 45,
   "id": "e624d83c",
   "metadata": {},
   "outputs": [
    {
     "data": {
      "text/plain": [
       "array([ 9., 19.,  7., 11.,  7.,  7.,  7., 19.,  9.,  9., 11., 19., 19.,\n",
       "       12.,  7., 39., 37., 11.,  9.,  7.,  9., 19.,  7.,  7.,  7.,  7.,\n",
       "       19.,  9.,  9., 19., 19.,  7., 39.,  9.,  7.,  9., 13., 20., 14.,\n",
       "       20.,  9., 19.,  7.,  7.,  7.,  7., 19.,  9.,  9., 19., 19.,  7.,\n",
       "       39.,  9.,  7.,  9., 13., 20., 14., 20.,  9., 19.,  7.,  7.,  7.,\n",
       "        7., 19.,  9.,  9., 19., 19.,  7., 39.,  9.,  7.,  9., 13., 20.,\n",
       "       14., 20.,  9., 19.,  7., 19.,  7.,  7.,  7., 19.,  9.,  9., 19.,\n",
       "       19., 19., 12.,  7., 39., 19.,  9.,  7., 12.,  9., 19.,  7.,  7.,\n",
       "        7.,  7., 19.,  9.,  9., 19., 19.,  7., 39.,  9.,  7.,  9., 13.,\n",
       "       20., 14., 20.,  9., 19.,  7., 11.,  7.,  7.,  7., 19.,  9.,  9.,\n",
       "       11., 19., 19., 12.,  7., 39., 11.,  9.,  7., 12.,  9., 19.,  7.,\n",
       "        7.,  7.,  7., 19.,  9.,  9., 19., 19.,  7., 39.,  9.,  7.,  9.,\n",
       "       13., 20., 14., 20.,  9., 19.,  7., 12.,  7.,  7.,  7., 19.,  9.,\n",
       "        9., 12., 19., 19., 19.,  7., 39., 12.,  9.,  7., 19.,  9., 19.,\n",
       "        7.,  7.,  7.,  7., 19.,  9.,  9., 19., 19.,  7., 39.,  9.,  7.,\n",
       "        9., 13., 20., 14., 20.,  9., 19.,  7.,  7.,  7.,  7., 19.,  9.,\n",
       "        9., 19., 19.,  7., 39.,  9.,  7.,  9., 13., 20., 14., 20.,  9.,\n",
       "       19.,  7.,  7.,  7.,  7., 19.,  9.,  9., 19., 19.,  7., 39.,  9.,\n",
       "        7.,  9., 13., 20., 14., 20.,  9., 19.,  7.,  7.,  7.,  7., 19.,\n",
       "        9.,  9., 19., 19.,  7., 39.,  9.,  7.,  9., 13., 20., 14., 20.,\n",
       "        9., 19.,  7.,  7.,  7.,  7., 19.,  9.,  9., 19., 19.,  7., 39.,\n",
       "        9.,  7.,  9., 13., 20., 14., 20.,  9., 19.,  7.,  7.,  7.,  7.,\n",
       "       19.,  9.,  9., 19., 19.,  7., 39.,  9.,  7.,  9., 13., 20., 14.,\n",
       "       20.,  9., 19.,  7.,  7.,  7.,  7., 19.,  9.,  9., 19., 19.,  7.,\n",
       "       39.,  9.,  7.,  9., 13., 20., 14., 20.,  9., 19.,  7.,  7.,  7.,\n",
       "        7., 19.,  9.,  9., 19., 19.,  7., 39.,  9.,  7.,  9., 13., 20.,\n",
       "       14., 20.,  9., 19.,  7.,  7.,  7.,  7., 19.,  9.,  9., 19., 19.,\n",
       "        7., 39.,  9.,  7.,  9., 13., 20., 14., 20.,  9., 19.,  7.,  7.,\n",
       "        7.,  7., 19.,  9.,  9., 19., 19.,  7., 39.,  9.,  7.,  9., 13.,\n",
       "       20., 14., 20.,  9., 19.,  7.,  7.,  7.,  7., 19.,  9.,  9., 19.,\n",
       "       19.,  7., 39.,  9.,  7.,  9., 13., 20., 14., 20.,  9., 19.,  7.,\n",
       "        7.,  7.,  7., 19.,  9.,  9., 19., 19.,  7., 39.,  9.,  7.,  9.,\n",
       "       13., 20., 14., 20.,  9., 19.,  7.,  7.,  7.,  7., 19.,  9.,  9.,\n",
       "       19., 19.,  7., 39.,  9.,  7.,  9., 13., 20., 14., 20.,  9., 19.,\n",
       "        7.,  7.,  7.,  7., 19.,  9.,  9., 19., 19.,  7., 39.,  9.,  7.,\n",
       "        9., 13., 20., 14., 20.,  9., 19.,  7.,  7.,  7.,  7., 19.,  9.,\n",
       "        9., 19., 19.,  7., 39.,  9.,  7.,  9., 13., 20., 14., 20.,  9.,\n",
       "       19.,  7.,  7.,  7.,  7., 19.,  9.,  9., 19., 19.,  7., 39.,  9.,\n",
       "        7.,  9., 13., 20., 14., 20.,  9., 19.,  7.,  7.,  7.,  7., 19.,\n",
       "        9.,  9., 19., 19.,  7., 39.,  9.,  7.,  9., 13., 20., 14., 20.,\n",
       "        9., 19.,  7.,  7.,  7.,  7., 19.,  9.,  9., 19., 19.,  7., 39.,\n",
       "        9.,  7.,  9., 13., 20., 14., 20.,  9., 19.,  7.,  7.,  7.,  7.,\n",
       "       19.,  9.,  9., 19., 19.,  7., 39.,  9.,  7.,  9., 13., 20., 14.,\n",
       "       20.,  9., 19.,  7.,  7.,  7.,  7., 19.,  9.,  9., 19., 19.,  7.,\n",
       "       39.,  9.,  7.,  9., 13., 20., 14., 20.,  9., 19.,  7.,  7.,  7.,\n",
       "        7., 19.,  9.,  9., 19., 19.,  7., 39.,  9.,  7.,  9., 13., 20.,\n",
       "       14., 20.,  9., 19.,  7.,  7.,  7.,  7., 19.,  9.,  9., 19., 19.,\n",
       "        7., 39.,  9.,  7.,  9., 13., 20., 14., 20.,  9., 19.,  7.,  7.,\n",
       "        7.,  7., 19.,  9.,  9., 19., 19.,  7., 39.,  9.,  7.,  9., 13.,\n",
       "       20., 14., 20.,  9., 19.,  7.,  7.,  7.,  7., 19.,  9.,  9., 19.,\n",
       "       19.,  7., 39.,  9.,  7.,  9., 13., 20., 14., 20.,  9., 19.,  7.,\n",
       "        7.,  7.,  7., 19.,  9.,  9., 19., 19.,  7., 39.,  9.,  7.,  9.,\n",
       "       13., 20., 14., 20.,  9., 19.,  7.,  7.,  7.,  7., 19.,  9.,  9.,\n",
       "       19., 19.,  7., 39.,  9.,  7.,  9., 13., 20., 14., 20.,  9., 19.,\n",
       "        7.,  7.,  7.,  7., 19.,  9.,  9., 19., 19.,  7., 39.,  9.,  7.,\n",
       "        9., 13., 20., 38., 20.,  9., 19.,  7.,  7.,  7.,  7., 19.,  9.,\n",
       "        9., 19., 19.,  7., 39.,  9.,  7.,  9., 13., 20., 14., 20.,  9.,\n",
       "       19.,  7.,  7.,  7.,  7., 19.,  9.,  9., 19., 19.,  7., 39.,  9.,\n",
       "        7.,  9., 13., 20., 14., 20.,  9., 19.,  7.,  7.,  7.,  7., 19.,\n",
       "        9.,  9., 19., 19.,  7., 39.,  9.,  7.,  9., 13., 20., 28., 20.,\n",
       "        9., 19.,  7.,  7.,  7.,  7., 19.,  9.,  9., 19., 19.,  7., 39.,\n",
       "        9.,  7.,  9., 13., 20., 14., 20.,  9., 19.,  7.,  7.,  7.,  7.,\n",
       "       19.,  9.,  9., 19., 19.,  7., 39.,  9.,  7.,  9., 13., 20., 14.,\n",
       "       20.,  9., 19.,  7.,  7.,  7.,  7., 19.,  9.,  9., 19., 19.,  7.,\n",
       "       39.,  9.,  7.,  9., 13., 20., 14., 20.,  9., 19.,  7.,  7.,  7.,\n",
       "        7., 19.,  9.,  9., 19., 19.,  7., 39.,  9.,  7.,  9., 13., 20.,\n",
       "       14., 20.,  9., 19.,  7.,  7.,  7.,  7., 19.,  9.,  9., 19., 19.,\n",
       "        7., 39.,  9.,  7.,  9., 13., 20., 14., 20.,  9., 19.,  7.,  7.,\n",
       "        7.,  7., 19.,  9.,  9., 19., 19.,  7., 39., 37.,  9.,  7.,  9.,\n",
       "       13., 20., 14.,  9., 19.,  7.,  7.,  7.,  7., 19.,  9.,  9., 19.,\n",
       "       19.,  7., 39.,  9.,  7.,  9., 13., 20., 14., 20.,  9., 19.,  7.,\n",
       "        7.,  7.,  7., 19.,  9.,  9., 19., 19.,  7., 39.,  9.,  7.,  9.,\n",
       "       13., 20., 14., 20.,  9., 19.,  7.,  7.,  7.,  7., 19.,  9.,  9.,\n",
       "       19., 19.,  7., 39.,  9.,  7.,  9., 13., 20., 14., 20.,  9., 19.,\n",
       "        7.,  7.,  7.,  7., 19.,  9.,  9., 19., 19.,  7., 39.,  9.,  7.,\n",
       "        9., 13., 20., 14., 20.,  9., 19.,  7.,  7.,  7.,  7., 19.,  9.,\n",
       "        9., 19., 19.,  7., 39.,  9.,  7.,  9., 13., 20., 14., 20.])"
      ]
     },
     "execution_count": 45,
     "metadata": {},
     "output_type": "execute_result"
    }
   ],
   "source": [
    "time"
   ]
  },
  {
   "cell_type": "code",
   "execution_count": 62,
   "id": "dc785a2f",
   "metadata": {},
   "outputs": [
    {
     "data": {
      "text/plain": [
       "5000"
      ]
     },
     "execution_count": 62,
     "metadata": {},
     "output_type": "execute_result"
    }
   ],
   "source": [
    "len(seller[seller=='Застройщик'])"
   ]
  },
  {
   "cell_type": "code",
   "execution_count": 63,
   "id": "65177c02",
   "metadata": {},
   "outputs": [
    {
     "data": {
      "text/html": [
       "<div>\n",
       "<style scoped>\n",
       "    .dataframe tbody tr th:only-of-type {\n",
       "        vertical-align: middle;\n",
       "    }\n",
       "\n",
       "    .dataframe tbody tr th {\n",
       "        vertical-align: top;\n",
       "    }\n",
       "\n",
       "    .dataframe thead th {\n",
       "        text-align: right;\n",
       "    }\n",
       "</style>\n",
       "<table border=\"1\" class=\"dataframe\">\n",
       "  <thead>\n",
       "    <tr style=\"text-align: right;\">\n",
       "      <th></th>\n",
       "      <th>Price_Total</th>\n",
       "      <th>Area</th>\n",
       "      <th>Price_Meter</th>\n",
       "      <th>Rooms</th>\n",
       "      <th>Floor_Live</th>\n",
       "      <th>Floor_Total</th>\n",
       "      <th>Zone</th>\n",
       "      <th>Neighborhood</th>\n",
       "      <th>Distance</th>\n",
       "      <th>Time</th>\n",
       "    </tr>\n",
       "  </thead>\n",
       "  <tbody>\n",
       "    <tr>\n",
       "      <th>4980</th>\n",
       "      <td>10594407</td>\n",
       "      <td>34.2</td>\n",
       "      <td>309778</td>\n",
       "      <td>2</td>\n",
       "      <td>7</td>\n",
       "      <td>15</td>\n",
       "      <td>СВАО</td>\n",
       "      <td>Бабушкинский район</td>\n",
       "      <td>12.0</td>\n",
       "      <td>11.0</td>\n",
       "    </tr>\n",
       "    <tr>\n",
       "      <th>4981</th>\n",
       "      <td>11278620</td>\n",
       "      <td>36.0</td>\n",
       "      <td>313208</td>\n",
       "      <td>1</td>\n",
       "      <td>19</td>\n",
       "      <td>38</td>\n",
       "      <td>ЮВАО</td>\n",
       "      <td>Южнопортовый район</td>\n",
       "      <td>5.0</td>\n",
       "      <td>9.0</td>\n",
       "    </tr>\n",
       "    <tr>\n",
       "      <th>4982</th>\n",
       "      <td>11878041</td>\n",
       "      <td>29.8</td>\n",
       "      <td>398592</td>\n",
       "      <td>0</td>\n",
       "      <td>7</td>\n",
       "      <td>32</td>\n",
       "      <td>ЗАО</td>\n",
       "      <td>Филёвский Парк</td>\n",
       "      <td>7.3</td>\n",
       "      <td>9.0</td>\n",
       "    </tr>\n",
       "    <tr>\n",
       "      <th>4983</th>\n",
       "      <td>9353943</td>\n",
       "      <td>36.1</td>\n",
       "      <td>259112</td>\n",
       "      <td>1</td>\n",
       "      <td>31</td>\n",
       "      <td>33</td>\n",
       "      <td>ЮАО</td>\n",
       "      <td>Чертаново Южное</td>\n",
       "      <td>18.5</td>\n",
       "      <td>7.0</td>\n",
       "    </tr>\n",
       "    <tr>\n",
       "      <th>4984</th>\n",
       "      <td>8484026</td>\n",
       "      <td>24.4</td>\n",
       "      <td>347706</td>\n",
       "      <td>0</td>\n",
       "      <td>19</td>\n",
       "      <td>21</td>\n",
       "      <td>ЗАО</td>\n",
       "      <td>Очаково-Матвеевское</td>\n",
       "      <td>12.1</td>\n",
       "      <td>31.0</td>\n",
       "    </tr>\n",
       "    <tr>\n",
       "      <th>4985</th>\n",
       "      <td>8296707</td>\n",
       "      <td>34.2</td>\n",
       "      <td>242452</td>\n",
       "      <td>1</td>\n",
       "      <td>13</td>\n",
       "      <td>33</td>\n",
       "      <td>ЮАО</td>\n",
       "      <td>Чертаново Южное</td>\n",
       "      <td>18.5</td>\n",
       "      <td>7.0</td>\n",
       "    </tr>\n",
       "    <tr>\n",
       "      <th>4986</th>\n",
       "      <td>6847017</td>\n",
       "      <td>24.0</td>\n",
       "      <td>285888</td>\n",
       "      <td>0</td>\n",
       "      <td>16</td>\n",
       "      <td>33</td>\n",
       "      <td>ЮВАО</td>\n",
       "      <td>Рязанский район</td>\n",
       "      <td>9.0</td>\n",
       "      <td>15.0</td>\n",
       "    </tr>\n",
       "    <tr>\n",
       "      <th>4987</th>\n",
       "      <td>13086430</td>\n",
       "      <td>42.5</td>\n",
       "      <td>307916</td>\n",
       "      <td>1</td>\n",
       "      <td>32</td>\n",
       "      <td>38</td>\n",
       "      <td>ЮВАО</td>\n",
       "      <td>Южнопортовый район</td>\n",
       "      <td>5.0</td>\n",
       "      <td>9.0</td>\n",
       "    </tr>\n",
       "    <tr>\n",
       "      <th>4988</th>\n",
       "      <td>21542497</td>\n",
       "      <td>76.8</td>\n",
       "      <td>280684</td>\n",
       "      <td>3</td>\n",
       "      <td>10</td>\n",
       "      <td>21</td>\n",
       "      <td>ЗАО</td>\n",
       "      <td>Очаково-Матвеевское</td>\n",
       "      <td>12.2</td>\n",
       "      <td>31.0</td>\n",
       "    </tr>\n",
       "    <tr>\n",
       "      <th>4989</th>\n",
       "      <td>14025503</td>\n",
       "      <td>65.6</td>\n",
       "      <td>213836</td>\n",
       "      <td>2</td>\n",
       "      <td>20</td>\n",
       "      <td>20</td>\n",
       "      <td>ЮАО</td>\n",
       "      <td>Чертаново Южное</td>\n",
       "      <td>18.5</td>\n",
       "      <td>7.0</td>\n",
       "    </tr>\n",
       "    <tr>\n",
       "      <th>4990</th>\n",
       "      <td>10387418</td>\n",
       "      <td>38.8</td>\n",
       "      <td>267648</td>\n",
       "      <td>1</td>\n",
       "      <td>21</td>\n",
       "      <td>33</td>\n",
       "      <td>ЮВАО</td>\n",
       "      <td>Рязанский район</td>\n",
       "      <td>9.0</td>\n",
       "      <td>15.0</td>\n",
       "    </tr>\n",
       "    <tr>\n",
       "      <th>4991</th>\n",
       "      <td>14093215</td>\n",
       "      <td>44.0</td>\n",
       "      <td>320446</td>\n",
       "      <td>1</td>\n",
       "      <td>18</td>\n",
       "      <td>21</td>\n",
       "      <td>ЗАО</td>\n",
       "      <td>Очаково-Матвеевское</td>\n",
       "      <td>12.1</td>\n",
       "      <td>31.0</td>\n",
       "    </tr>\n",
       "    <tr>\n",
       "      <th>4992</th>\n",
       "      <td>8104647</td>\n",
       "      <td>23.7</td>\n",
       "      <td>341824</td>\n",
       "      <td>0</td>\n",
       "      <td>18</td>\n",
       "      <td>38</td>\n",
       "      <td>ЮВАО</td>\n",
       "      <td>Южнопортовый район</td>\n",
       "      <td>5.0</td>\n",
       "      <td>9.0</td>\n",
       "    </tr>\n",
       "    <tr>\n",
       "      <th>4993</th>\n",
       "      <td>12146316</td>\n",
       "      <td>36.4</td>\n",
       "      <td>333690</td>\n",
       "      <td>1</td>\n",
       "      <td>26</td>\n",
       "      <td>38</td>\n",
       "      <td>ЮВАО</td>\n",
       "      <td>Южнопортовый район</td>\n",
       "      <td>5.0</td>\n",
       "      <td>9.0</td>\n",
       "    </tr>\n",
       "    <tr>\n",
       "      <th>4994</th>\n",
       "      <td>10017371</td>\n",
       "      <td>42.5</td>\n",
       "      <td>235592</td>\n",
       "      <td>1</td>\n",
       "      <td>25</td>\n",
       "      <td>33</td>\n",
       "      <td>ЮАО</td>\n",
       "      <td>Чертаново Южное</td>\n",
       "      <td>18.5</td>\n",
       "      <td>7.0</td>\n",
       "    </tr>\n",
       "    <tr>\n",
       "      <th>4995</th>\n",
       "      <td>15009300</td>\n",
       "      <td>45.9</td>\n",
       "      <td>327000</td>\n",
       "      <td>2</td>\n",
       "      <td>6</td>\n",
       "      <td>29</td>\n",
       "      <td>ЮЗАО</td>\n",
       "      <td>Черёмушки</td>\n",
       "      <td>11.2</td>\n",
       "      <td>14.0</td>\n",
       "    </tr>\n",
       "    <tr>\n",
       "      <th>4996</th>\n",
       "      <td>9764700</td>\n",
       "      <td>26.9</td>\n",
       "      <td>363000</td>\n",
       "      <td>1</td>\n",
       "      <td>22</td>\n",
       "      <td>29</td>\n",
       "      <td>ЮЗАО</td>\n",
       "      <td>Черёмушки</td>\n",
       "      <td>11.2</td>\n",
       "      <td>14.0</td>\n",
       "    </tr>\n",
       "    <tr>\n",
       "      <th>4997</th>\n",
       "      <td>8793187</td>\n",
       "      <td>36.2</td>\n",
       "      <td>243040</td>\n",
       "      <td>1</td>\n",
       "      <td>20</td>\n",
       "      <td>33</td>\n",
       "      <td>ЮАО</td>\n",
       "      <td>Чертаново Южное</td>\n",
       "      <td>18.5</td>\n",
       "      <td>7.0</td>\n",
       "    </tr>\n",
       "    <tr>\n",
       "      <th>4998</th>\n",
       "      <td>8226025</td>\n",
       "      <td>34.1</td>\n",
       "      <td>241374</td>\n",
       "      <td>1</td>\n",
       "      <td>9</td>\n",
       "      <td>33</td>\n",
       "      <td>ЮАО</td>\n",
       "      <td>Чертаново Южное</td>\n",
       "      <td>18.5</td>\n",
       "      <td>7.0</td>\n",
       "    </tr>\n",
       "    <tr>\n",
       "      <th>4999</th>\n",
       "      <td>8731910</td>\n",
       "      <td>25.4</td>\n",
       "      <td>343776</td>\n",
       "      <td>0</td>\n",
       "      <td>32</td>\n",
       "      <td>33</td>\n",
       "      <td>ЮАО</td>\n",
       "      <td>Нагатино-Садовники</td>\n",
       "      <td>8.5</td>\n",
       "      <td>20.0</td>\n",
       "    </tr>\n",
       "  </tbody>\n",
       "</table>\n",
       "</div>"
      ],
      "text/plain": [
       "      Price_Total  Area  Price_Meter  Rooms  Floor_Live  Floor_Total  Zone  \\\n",
       "4980     10594407  34.2       309778      2           7           15  СВАО   \n",
       "4981     11278620  36.0       313208      1          19           38  ЮВАО   \n",
       "4982     11878041  29.8       398592      0           7           32   ЗАО   \n",
       "4983      9353943  36.1       259112      1          31           33   ЮАО   \n",
       "4984      8484026  24.4       347706      0          19           21   ЗАО   \n",
       "4985      8296707  34.2       242452      1          13           33   ЮАО   \n",
       "4986      6847017  24.0       285888      0          16           33  ЮВАО   \n",
       "4987     13086430  42.5       307916      1          32           38  ЮВАО   \n",
       "4988     21542497  76.8       280684      3          10           21   ЗАО   \n",
       "4989     14025503  65.6       213836      2          20           20   ЮАО   \n",
       "4990     10387418  38.8       267648      1          21           33  ЮВАО   \n",
       "4991     14093215  44.0       320446      1          18           21   ЗАО   \n",
       "4992      8104647  23.7       341824      0          18           38  ЮВАО   \n",
       "4993     12146316  36.4       333690      1          26           38  ЮВАО   \n",
       "4994     10017371  42.5       235592      1          25           33   ЮАО   \n",
       "4995     15009300  45.9       327000      2           6           29  ЮЗАО   \n",
       "4996      9764700  26.9       363000      1          22           29  ЮЗАО   \n",
       "4997      8793187  36.2       243040      1          20           33   ЮАО   \n",
       "4998      8226025  34.1       241374      1           9           33   ЮАО   \n",
       "4999      8731910  25.4       343776      0          32           33   ЮАО   \n",
       "\n",
       "             Neighborhood Distance  Time  \n",
       "4980   Бабушкинский район     12.0  11.0  \n",
       "4981   Южнопортовый район      5.0   9.0  \n",
       "4982       Филёвский Парк      7.3   9.0  \n",
       "4983      Чертаново Южное     18.5   7.0  \n",
       "4984  Очаково-Матвеевское     12.1  31.0  \n",
       "4985      Чертаново Южное     18.5   7.0  \n",
       "4986      Рязанский район      9.0  15.0  \n",
       "4987   Южнопортовый район      5.0   9.0  \n",
       "4988  Очаково-Матвеевское     12.2  31.0  \n",
       "4989      Чертаново Южное     18.5   7.0  \n",
       "4990      Рязанский район      9.0  15.0  \n",
       "4991  Очаково-Матвеевское     12.1  31.0  \n",
       "4992   Южнопортовый район      5.0   9.0  \n",
       "4993   Южнопортовый район      5.0   9.0  \n",
       "4994      Чертаново Южное     18.5   7.0  \n",
       "4995            Черёмушки     11.2  14.0  \n",
       "4996            Черёмушки     11.2  14.0  \n",
       "4997      Чертаново Южное     18.5   7.0  \n",
       "4998      Чертаново Южное     18.5   7.0  \n",
       "4999   Нагатино-Садовники      8.5  20.0  "
      ]
     },
     "execution_count": 63,
     "metadata": {},
     "output_type": "execute_result"
    }
   ],
   "source": [
    "df = pd.DataFrame({'Price_Total': prices, 'Area': area, 'Price_Meter': price_meters, 'Rooms': rooms,\n",
    "                   'Floor_Live': floor_live, 'Floor_Total': floor_total, 'Zone': okrugi, 'Neighborhood': raion, 'Distance': rasstoyanie,\n",
    "                  'Time': time})\n",
    "df.tail(20)"
   ]
  },
  {
   "cell_type": "code",
   "execution_count": 64,
   "id": "a7a96f88",
   "metadata": {},
   "outputs": [],
   "source": [
    "df.replace('nan', np.nan, inplace=True) #nan не распознавался как NaN, а распознавался как строка, хз почему...\n",
    "df = df.dropna()"
   ]
  },
  {
   "cell_type": "code",
   "execution_count": 65,
   "id": "dfcfefaa",
   "metadata": {},
   "outputs": [
    {
     "data": {
      "text/html": [
       "<div>\n",
       "<style scoped>\n",
       "    .dataframe tbody tr th:only-of-type {\n",
       "        vertical-align: middle;\n",
       "    }\n",
       "\n",
       "    .dataframe tbody tr th {\n",
       "        vertical-align: top;\n",
       "    }\n",
       "\n",
       "    .dataframe thead th {\n",
       "        text-align: right;\n",
       "    }\n",
       "</style>\n",
       "<table border=\"1\" class=\"dataframe\">\n",
       "  <thead>\n",
       "    <tr style=\"text-align: right;\">\n",
       "      <th></th>\n",
       "      <th>Price_Total</th>\n",
       "      <th>Area</th>\n",
       "      <th>Price_Meter</th>\n",
       "      <th>Rooms</th>\n",
       "      <th>Floor_Live</th>\n",
       "      <th>Floor_Total</th>\n",
       "      <th>Zone</th>\n",
       "      <th>Neighborhood</th>\n",
       "      <th>Distance</th>\n",
       "      <th>Time</th>\n",
       "    </tr>\n",
       "  </thead>\n",
       "  <tbody>\n",
       "    <tr>\n",
       "      <th>0</th>\n",
       "      <td>11850601</td>\n",
       "      <td>36.5</td>\n",
       "      <td>324674</td>\n",
       "      <td>1</td>\n",
       "      <td>24</td>\n",
       "      <td>38</td>\n",
       "      <td>ЮВАО</td>\n",
       "      <td>Южнопортовый район</td>\n",
       "      <td>5.0</td>\n",
       "      <td>9.0</td>\n",
       "    </tr>\n",
       "    <tr>\n",
       "      <th>1</th>\n",
       "      <td>9265190</td>\n",
       "      <td>34.2</td>\n",
       "      <td>270912</td>\n",
       "      <td>1</td>\n",
       "      <td>15</td>\n",
       "      <td>33</td>\n",
       "      <td>ВАО</td>\n",
       "      <td>Метрогородок</td>\n",
       "      <td>10.5</td>\n",
       "      <td>12.0</td>\n",
       "    </tr>\n",
       "    <tr>\n",
       "      <th>2</th>\n",
       "      <td>10594407</td>\n",
       "      <td>34.2</td>\n",
       "      <td>309778</td>\n",
       "      <td>2</td>\n",
       "      <td>7</td>\n",
       "      <td>15</td>\n",
       "      <td>СВАО</td>\n",
       "      <td>Бабушкинский район</td>\n",
       "      <td>12.0</td>\n",
       "      <td>11.0</td>\n",
       "    </tr>\n",
       "    <tr>\n",
       "      <th>3</th>\n",
       "      <td>9353943</td>\n",
       "      <td>36.1</td>\n",
       "      <td>259112</td>\n",
       "      <td>1</td>\n",
       "      <td>31</td>\n",
       "      <td>33</td>\n",
       "      <td>ЮАО</td>\n",
       "      <td>Чертаново Южное</td>\n",
       "      <td>18.5</td>\n",
       "      <td>7.0</td>\n",
       "    </tr>\n",
       "    <tr>\n",
       "      <th>4</th>\n",
       "      <td>8484026</td>\n",
       "      <td>24.4</td>\n",
       "      <td>347706</td>\n",
       "      <td>0</td>\n",
       "      <td>19</td>\n",
       "      <td>21</td>\n",
       "      <td>ЗАО</td>\n",
       "      <td>Очаково-Матвеевское</td>\n",
       "      <td>12.1</td>\n",
       "      <td>9.0</td>\n",
       "    </tr>\n",
       "    <tr>\n",
       "      <th>...</th>\n",
       "      <td>...</td>\n",
       "      <td>...</td>\n",
       "      <td>...</td>\n",
       "      <td>...</td>\n",
       "      <td>...</td>\n",
       "      <td>...</td>\n",
       "      <td>...</td>\n",
       "      <td>...</td>\n",
       "      <td>...</td>\n",
       "      <td>...</td>\n",
       "    </tr>\n",
       "    <tr>\n",
       "      <th>4995</th>\n",
       "      <td>15009300</td>\n",
       "      <td>45.9</td>\n",
       "      <td>327000</td>\n",
       "      <td>2</td>\n",
       "      <td>6</td>\n",
       "      <td>29</td>\n",
       "      <td>ЮЗАО</td>\n",
       "      <td>Черёмушки</td>\n",
       "      <td>11.2</td>\n",
       "      <td>14.0</td>\n",
       "    </tr>\n",
       "    <tr>\n",
       "      <th>4996</th>\n",
       "      <td>9764700</td>\n",
       "      <td>26.9</td>\n",
       "      <td>363000</td>\n",
       "      <td>1</td>\n",
       "      <td>22</td>\n",
       "      <td>29</td>\n",
       "      <td>ЮЗАО</td>\n",
       "      <td>Черёмушки</td>\n",
       "      <td>11.2</td>\n",
       "      <td>14.0</td>\n",
       "    </tr>\n",
       "    <tr>\n",
       "      <th>4997</th>\n",
       "      <td>8793187</td>\n",
       "      <td>36.2</td>\n",
       "      <td>243040</td>\n",
       "      <td>1</td>\n",
       "      <td>20</td>\n",
       "      <td>33</td>\n",
       "      <td>ЮАО</td>\n",
       "      <td>Чертаново Южное</td>\n",
       "      <td>18.5</td>\n",
       "      <td>7.0</td>\n",
       "    </tr>\n",
       "    <tr>\n",
       "      <th>4998</th>\n",
       "      <td>8226025</td>\n",
       "      <td>34.1</td>\n",
       "      <td>241374</td>\n",
       "      <td>1</td>\n",
       "      <td>9</td>\n",
       "      <td>33</td>\n",
       "      <td>ЮАО</td>\n",
       "      <td>Чертаново Южное</td>\n",
       "      <td>18.5</td>\n",
       "      <td>7.0</td>\n",
       "    </tr>\n",
       "    <tr>\n",
       "      <th>4999</th>\n",
       "      <td>8731910</td>\n",
       "      <td>25.4</td>\n",
       "      <td>343776</td>\n",
       "      <td>0</td>\n",
       "      <td>32</td>\n",
       "      <td>33</td>\n",
       "      <td>ЮАО</td>\n",
       "      <td>Нагатино-Садовники</td>\n",
       "      <td>8.5</td>\n",
       "      <td>20.0</td>\n",
       "    </tr>\n",
       "  </tbody>\n",
       "</table>\n",
       "<p>5000 rows × 10 columns</p>\n",
       "</div>"
      ],
      "text/plain": [
       "      Price_Total  Area  Price_Meter  Rooms  Floor_Live  Floor_Total  Zone  \\\n",
       "0        11850601  36.5       324674      1          24           38  ЮВАО   \n",
       "1         9265190  34.2       270912      1          15           33   ВАО   \n",
       "2        10594407  34.2       309778      2           7           15  СВАО   \n",
       "3         9353943  36.1       259112      1          31           33   ЮАО   \n",
       "4         8484026  24.4       347706      0          19           21   ЗАО   \n",
       "...           ...   ...          ...    ...         ...          ...   ...   \n",
       "4995     15009300  45.9       327000      2           6           29  ЮЗАО   \n",
       "4996      9764700  26.9       363000      1          22           29  ЮЗАО   \n",
       "4997      8793187  36.2       243040      1          20           33   ЮАО   \n",
       "4998      8226025  34.1       241374      1           9           33   ЮАО   \n",
       "4999      8731910  25.4       343776      0          32           33   ЮАО   \n",
       "\n",
       "             Neighborhood Distance  Time  \n",
       "0      Южнопортовый район      5.0   9.0  \n",
       "1            Метрогородок     10.5  12.0  \n",
       "2      Бабушкинский район     12.0  11.0  \n",
       "3         Чертаново Южное     18.5   7.0  \n",
       "4     Очаково-Матвеевское     12.1   9.0  \n",
       "...                   ...      ...   ...  \n",
       "4995            Черёмушки     11.2  14.0  \n",
       "4996            Черёмушки     11.2  14.0  \n",
       "4997      Чертаново Южное     18.5   7.0  \n",
       "4998      Чертаново Южное     18.5   7.0  \n",
       "4999   Нагатино-Садовники      8.5  20.0  \n",
       "\n",
       "[5000 rows x 10 columns]"
      ]
     },
     "execution_count": 65,
     "metadata": {},
     "output_type": "execute_result"
    }
   ],
   "source": [
    "df"
   ]
  },
  {
   "cell_type": "code",
   "execution_count": 66,
   "id": "9b750b76",
   "metadata": {},
   "outputs": [],
   "source": [
    "df.to_csv('our_project.csv', index=False)\n"
   ]
  },
  {
   "cell_type": "code",
   "execution_count": null,
   "id": "4aa9fd5a",
   "metadata": {},
   "outputs": [],
   "source": []
  }
 ],
 "metadata": {
  "kernelspec": {
   "display_name": "Python 3 (ipykernel)",
   "language": "python",
   "name": "python3"
  },
  "language_info": {
   "codemirror_mode": {
    "name": "ipython",
    "version": 3
   },
   "file_extension": ".py",
   "mimetype": "text/x-python",
   "name": "python",
   "nbconvert_exporter": "python",
   "pygments_lexer": "ipython3",
   "version": "3.9.7"
  }
 },
 "nbformat": 4,
 "nbformat_minor": 5
}
